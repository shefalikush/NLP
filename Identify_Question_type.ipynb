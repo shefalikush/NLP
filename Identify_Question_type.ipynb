{
  "nbformat": 4,
  "nbformat_minor": 0,
  "metadata": {
    "colab": {
      "name": "Identify_Question_type.ipynb",
      "version": "0.3.2",
      "provenance": [],
      "collapsed_sections": []
    },
    "kernelspec": {
      "name": "python3",
      "display_name": "Python 3"
    }
  },
  "cells": [
    {
      "metadata": {
        "id": "Ca-alLgrxXEz",
        "colab_type": "code",
        "colab": {
          "base_uri": "https://localhost:8080/",
          "height": 52
        },
        "outputId": "2a1182df-a9d4-4036-cb37-bf41af983f6e"
      },
      "cell_type": "code",
      "source": [
        "import pandas as pd\n",
        "import numpy as np\n",
        "import nltk\n",
        "from sklearn.model_selection import train_test_split\n",
        "from sklearn.feature_extraction.text import CountVectorizer, TfidfVectorizer\n",
        "from sklearn.metrics import accuracy_score, confusion_matrix\n",
        "import matplotlib.pyplot as plt\n",
        "from nltk.corpus import stopwords\n",
        "import re\n",
        "%matplotlib inline\n",
        "nltk.download('stopwords')\n",
        "from sklearn import naive_bayes\n",
        "from sklearn.metrics import classification_report\n",
        "from sklearn.metrics import roc_auc_score\n",
        "import gensim\n"
      ],
      "execution_count": 971,
      "outputs": [
        {
          "output_type": "stream",
          "text": [
            "[nltk_data] Downloading package stopwords to /root/nltk_data...\n",
            "[nltk_data]   Package stopwords is already up-to-date!\n"
          ],
          "name": "stdout"
        }
      ]
    },
    {
      "metadata": {
        "id": "OoAFycy819KG",
        "colab_type": "code",
        "colab": {
          "base_uri": "https://localhost:8080/",
          "height": 72
        },
        "outputId": "6c486766-acdd-4f24-b982-a8b5f7112d5a"
      },
      "cell_type": "code",
      "source": [
        "df= pd.read_csv('nlpdata.txt', sep=',,,', header= None,names=['Question','type'])#read the data"
      ],
      "execution_count": 972,
      "outputs": [
        {
          "output_type": "stream",
          "text": [
            "/usr/local/lib/python3.6/dist-packages/ipykernel_launcher.py:1: ParserWarning: Falling back to the 'python' engine because the 'c' engine does not support regex separators (separators > 1 char and different from '\\s+' are interpreted as regex); you can avoid this warning by specifying engine='python'.\n",
            "  \"\"\"Entry point for launching an IPython kernel.\n"
          ],
          "name": "stderr"
        }
      ]
    },
    {
      "metadata": {
        "id": "WFCgQb-H3qQ4",
        "colab_type": "code",
        "colab": {
          "base_uri": "https://localhost:8080/",
          "height": 195
        },
        "outputId": "d5ede82c-64a6-425c-8e76-5655b6d1c4b3"
      },
      "cell_type": "code",
      "source": [
        "df.head()# displays top 5 rows "
      ],
      "execution_count": 973,
      "outputs": [
        {
          "output_type": "execute_result",
          "data": {
            "text/html": [
              "<div>\n",
              "<style scoped>\n",
              "    .dataframe tbody tr th:only-of-type {\n",
              "        vertical-align: middle;\n",
              "    }\n",
              "\n",
              "    .dataframe tbody tr th {\n",
              "        vertical-align: top;\n",
              "    }\n",
              "\n",
              "    .dataframe thead th {\n",
              "        text-align: right;\n",
              "    }\n",
              "</style>\n",
              "<table border=\"1\" class=\"dataframe\">\n",
              "  <thead>\n",
              "    <tr style=\"text-align: right;\">\n",
              "      <th></th>\n",
              "      <th>Question</th>\n",
              "      <th>type</th>\n",
              "    </tr>\n",
              "  </thead>\n",
              "  <tbody>\n",
              "    <tr>\n",
              "      <th>0</th>\n",
              "      <td>how did serfdom develop in and then leave russ...</td>\n",
              "      <td>unknown</td>\n",
              "    </tr>\n",
              "    <tr>\n",
              "      <th>1</th>\n",
              "      <td>what films featured the character popeye doyle ?</td>\n",
              "      <td>what</td>\n",
              "    </tr>\n",
              "    <tr>\n",
              "      <th>2</th>\n",
              "      <td>how can i find a list of celebrities ' real na...</td>\n",
              "      <td>unknown</td>\n",
              "    </tr>\n",
              "    <tr>\n",
              "      <th>3</th>\n",
              "      <td>what fowl grabs the spotlight after the chines...</td>\n",
              "      <td>what</td>\n",
              "    </tr>\n",
              "    <tr>\n",
              "      <th>4</th>\n",
              "      <td>what is the full form of .com ?</td>\n",
              "      <td>what</td>\n",
              "    </tr>\n",
              "  </tbody>\n",
              "</table>\n",
              "</div>"
            ],
            "text/plain": [
              "                                            Question      type\n",
              "0  how did serfdom develop in and then leave russ...   unknown\n",
              "1  what films featured the character popeye doyle ?       what\n",
              "2  how can i find a list of celebrities ' real na...   unknown\n",
              "3  what fowl grabs the spotlight after the chines...      what\n",
              "4                   what is the full form of .com ?       what"
            ]
          },
          "metadata": {
            "tags": []
          },
          "execution_count": 973
        }
      ]
    },
    {
      "metadata": {
        "id": "0WHIcki54IMF",
        "colab_type": "code",
        "colab": {
          "base_uri": "https://localhost:8080/",
          "height": 34
        },
        "outputId": "60fe0f39-3c9b-4092-cf68-d016f73cab59"
      },
      "cell_type": "code",
      "source": [
        "df.shape# total 1483 observations that represent question and its type"
      ],
      "execution_count": 974,
      "outputs": [
        {
          "output_type": "execute_result",
          "data": {
            "text/plain": [
              "(1483, 2)"
            ]
          },
          "metadata": {
            "tags": []
          },
          "execution_count": 974
        }
      ]
    },
    {
      "metadata": {
        "id": "uaT_B9iv4Mco",
        "colab_type": "code",
        "colab": {}
      },
      "cell_type": "code",
      "source": [
        "df['type']=df['type'].str.strip()\n"
      ],
      "execution_count": 0,
      "outputs": []
    },
    {
      "metadata": {
        "id": "94nEdtQB4WUk",
        "colab_type": "code",
        "colab": {
          "base_uri": "https://localhost:8080/",
          "height": 34
        },
        "outputId": "a2fa4d09-b0f1-40aa-bbd9-fb1bd33f70f9"
      },
      "cell_type": "code",
      "source": [
        "df['type'].unique() #type of the qyestions present in a dataset"
      ],
      "execution_count": 976,
      "outputs": [
        {
          "output_type": "execute_result",
          "data": {
            "text/plain": [
              "array(['unknown', 'what', 'when', 'who', 'affirmation'], dtype=object)"
            ]
          },
          "metadata": {
            "tags": []
          },
          "execution_count": 976
        }
      ]
    },
    {
      "metadata": {
        "id": "fM4A-FuP5C5c",
        "colab_type": "code",
        "colab": {}
      },
      "cell_type": "code",
      "source": [
        "def clean_str(string):\n",
        "  \"\"\"\n",
        "  String cleaning before vectorization\n",
        "  \"\"\"\n",
        "  try:    \n",
        "   \n",
        "    string = re.sub(r\"[^A-Za-z]\", \" \", string)         \n",
        "    words = string.strip().lower().split()    \n",
        "    words = [w for w in words if len(w)>=1]\n",
        "    return \" \".join(words)\t\n",
        "  except:\n",
        "    return \"\""
      ],
      "execution_count": 0,
      "outputs": []
    },
    {
      "metadata": {
        "id": "bIgpgBCgOAbL",
        "colab_type": "code",
        "colab": {}
      },
      "cell_type": "code",
      "source": [
        "df['clean_Question'] = df['Question'].apply(clean_str)"
      ],
      "execution_count": 0,
      "outputs": []
    },
    {
      "metadata": {
        "id": "vDK7Yh6WOlkV",
        "colab_type": "code",
        "colab": {
          "base_uri": "https://localhost:8080/",
          "height": 195
        },
        "outputId": "8675108f-35b7-4ddc-9de9-80d39e5b9a7c"
      },
      "cell_type": "code",
      "source": [
        "df.head()"
      ],
      "execution_count": 979,
      "outputs": [
        {
          "output_type": "execute_result",
          "data": {
            "text/html": [
              "<div>\n",
              "<style scoped>\n",
              "    .dataframe tbody tr th:only-of-type {\n",
              "        vertical-align: middle;\n",
              "    }\n",
              "\n",
              "    .dataframe tbody tr th {\n",
              "        vertical-align: top;\n",
              "    }\n",
              "\n",
              "    .dataframe thead th {\n",
              "        text-align: right;\n",
              "    }\n",
              "</style>\n",
              "<table border=\"1\" class=\"dataframe\">\n",
              "  <thead>\n",
              "    <tr style=\"text-align: right;\">\n",
              "      <th></th>\n",
              "      <th>Question</th>\n",
              "      <th>type</th>\n",
              "      <th>clean_Question</th>\n",
              "    </tr>\n",
              "  </thead>\n",
              "  <tbody>\n",
              "    <tr>\n",
              "      <th>0</th>\n",
              "      <td>how did serfdom develop in and then leave russ...</td>\n",
              "      <td>unknown</td>\n",
              "      <td>how did serfdom develop in and then leave russia</td>\n",
              "    </tr>\n",
              "    <tr>\n",
              "      <th>1</th>\n",
              "      <td>what films featured the character popeye doyle ?</td>\n",
              "      <td>what</td>\n",
              "      <td>what films featured the character popeye doyle</td>\n",
              "    </tr>\n",
              "    <tr>\n",
              "      <th>2</th>\n",
              "      <td>how can i find a list of celebrities ' real na...</td>\n",
              "      <td>unknown</td>\n",
              "      <td>how can i find a list of celebrities real names</td>\n",
              "    </tr>\n",
              "    <tr>\n",
              "      <th>3</th>\n",
              "      <td>what fowl grabs the spotlight after the chines...</td>\n",
              "      <td>what</td>\n",
              "      <td>what fowl grabs the spotlight after the chines...</td>\n",
              "    </tr>\n",
              "    <tr>\n",
              "      <th>4</th>\n",
              "      <td>what is the full form of .com ?</td>\n",
              "      <td>what</td>\n",
              "      <td>what is the full form of com</td>\n",
              "    </tr>\n",
              "  </tbody>\n",
              "</table>\n",
              "</div>"
            ],
            "text/plain": [
              "                                            Question     type  \\\n",
              "0  how did serfdom develop in and then leave russ...  unknown   \n",
              "1  what films featured the character popeye doyle ?      what   \n",
              "2  how can i find a list of celebrities ' real na...  unknown   \n",
              "3  what fowl grabs the spotlight after the chines...     what   \n",
              "4                   what is the full form of .com ?      what   \n",
              "\n",
              "                                      clean_Question  \n",
              "0   how did serfdom develop in and then leave russia  \n",
              "1     what films featured the character popeye doyle  \n",
              "2    how can i find a list of celebrities real names  \n",
              "3  what fowl grabs the spotlight after the chines...  \n",
              "4                       what is the full form of com  "
            ]
          },
          "metadata": {
            "tags": []
          },
          "execution_count": 979
        }
      ]
    },
    {
      "metadata": {
        "id": "zrTRN5vc1BlM",
        "colab_type": "code",
        "colab": {
          "base_uri": "https://localhost:8080/",
          "height": 195
        },
        "outputId": "35582a11-41ad-4858-8f7f-bd8063961379"
      },
      "cell_type": "code",
      "source": [
        "df.drop(['Question'],inplace=True, axis=1)\n",
        "df.head()"
      ],
      "execution_count": 980,
      "outputs": [
        {
          "output_type": "execute_result",
          "data": {
            "text/html": [
              "<div>\n",
              "<style scoped>\n",
              "    .dataframe tbody tr th:only-of-type {\n",
              "        vertical-align: middle;\n",
              "    }\n",
              "\n",
              "    .dataframe tbody tr th {\n",
              "        vertical-align: top;\n",
              "    }\n",
              "\n",
              "    .dataframe thead th {\n",
              "        text-align: right;\n",
              "    }\n",
              "</style>\n",
              "<table border=\"1\" class=\"dataframe\">\n",
              "  <thead>\n",
              "    <tr style=\"text-align: right;\">\n",
              "      <th></th>\n",
              "      <th>type</th>\n",
              "      <th>clean_Question</th>\n",
              "    </tr>\n",
              "  </thead>\n",
              "  <tbody>\n",
              "    <tr>\n",
              "      <th>0</th>\n",
              "      <td>unknown</td>\n",
              "      <td>how did serfdom develop in and then leave russia</td>\n",
              "    </tr>\n",
              "    <tr>\n",
              "      <th>1</th>\n",
              "      <td>what</td>\n",
              "      <td>what films featured the character popeye doyle</td>\n",
              "    </tr>\n",
              "    <tr>\n",
              "      <th>2</th>\n",
              "      <td>unknown</td>\n",
              "      <td>how can i find a list of celebrities real names</td>\n",
              "    </tr>\n",
              "    <tr>\n",
              "      <th>3</th>\n",
              "      <td>what</td>\n",
              "      <td>what fowl grabs the spotlight after the chines...</td>\n",
              "    </tr>\n",
              "    <tr>\n",
              "      <th>4</th>\n",
              "      <td>what</td>\n",
              "      <td>what is the full form of com</td>\n",
              "    </tr>\n",
              "  </tbody>\n",
              "</table>\n",
              "</div>"
            ],
            "text/plain": [
              "      type                                     clean_Question\n",
              "0  unknown   how did serfdom develop in and then leave russia\n",
              "1     what     what films featured the character popeye doyle\n",
              "2  unknown    how can i find a list of celebrities real names\n",
              "3     what  what fowl grabs the spotlight after the chines...\n",
              "4     what                       what is the full form of com"
            ]
          },
          "metadata": {
            "tags": []
          },
          "execution_count": 980
        }
      ]
    },
    {
      "metadata": {
        "id": "8g44G7RVr-C7",
        "colab_type": "text"
      },
      "cell_type": "markdown",
      "source": [
        "Remove stopwords that don't have any significance."
      ]
    },
    {
      "metadata": {
        "id": "DrRu0qfAsAfI",
        "colab_type": "text"
      },
      "cell_type": "markdown",
      "source": [
        "TFIDF Vectorizer - Convert a collection of raw documents to a matrix of TF-IDF features. All stopwords are removed.\n",
        "\n",
        "TF-IDF stands for “term frequency-inverse document frequency”, meaning the weight assigned to each token not only depends on its frequency in a document but also how recurrent that term is in the entire corpora. TF-IDF says how important that word is to that document with respect to the corpus."
      ]
    },
    {
      "metadata": {
        "id": "4kfLSKkPfza2",
        "colab_type": "code",
        "colab": {
          "base_uri": "https://localhost:8080/",
          "height": 178
        },
        "outputId": "7cc6e919-c89a-4f81-fd6f-0b8474580087"
      },
      "cell_type": "code",
      "source": [
        "#TFIDF Vectorizer\n",
        "stopset = set(stopwords.words('english'))\n",
        "vectorizer = TfidfVectorizer(use_idf=True, lowercase=True, strip_accents='ascii', stop_words=stopset)\n",
        "vectorizer.fit(df) #Learn vocabulary and idf from training set."
      ],
      "execution_count": 981,
      "outputs": [
        {
          "output_type": "execute_result",
          "data": {
            "text/plain": [
              "TfidfVectorizer(analyzer='word', binary=False, decode_error='strict',\n",
              "        dtype=<class 'numpy.float64'>, encoding='utf-8', input='content',\n",
              "        lowercase=True, max_df=1.0, max_features=None, min_df=1,\n",
              "        ngram_range=(1, 1), norm='l2', preprocessor=None, smooth_idf=True,\n",
              "        stop_words={\"you'll\", 're', \"haven't\", \"couldn't\", 'above', 'about', 'all', 'not', 'your', 'this', 'their', 'once', 'won', 'ma', 'were', 'both', 'yourself', \"you've\", 'here', 'ain', 'just', 'i', 'these', \"isn't\", 'until', 'too', 'you', 'they', 'by', 'should', 'mustn', 'theirs', 'it', 'those', 'who',...'into', 'then', 'will', 'ourselves', 'against', 'couldn', 's', 'and', 'now', 'why', \"aren't\", 'but'},\n",
              "        strip_accents='ascii', sublinear_tf=False,\n",
              "        token_pattern='(?u)\\\\b\\\\w\\\\w+\\\\b', tokenizer=None, use_idf=True,\n",
              "        vocabulary=None)"
            ]
          },
          "metadata": {
            "tags": []
          },
          "execution_count": 981
        }
      ]
    },
    {
      "metadata": {
        "id": "gaY3-R2zduYY",
        "colab_type": "code",
        "colab": {
          "base_uri": "https://localhost:8080/",
          "height": 228
        },
        "outputId": "e7c486be-df32-447b-de73-025f5ff0d87a"
      },
      "cell_type": "code",
      "source": [
        "X = vectorizer.fit_transform(df.clean_Question)\n",
        "\n",
        "from sklearn import preprocessing\n",
        "le = preprocessing.LabelEncoder()\n",
        "Y=le.fit_transform(df['type'])\n",
        "print(list(le.classes_))\n",
        "print(Y.shape)\n",
        "\n",
        "Y= pd.DataFrame(data=Y, columns=[\"Y\"])\n",
        "df1 = pd.concat([df,Y],axis=1)\n",
        "\n",
        "df1.drop('type',axis=1,inplace=True)\n",
        "print(df1.head())\n",
        "df1.head()\n",
        "\n",
        "X_train, X_test, y_train, y_test = train_test_split(X, Y, test_size=0.3, random_state = 123)\n",
        "print(X_train.shape)\n",
        "print(X_test.shape)\n",
        "print(y_train.shape)\n",
        "print(y_test.shape)"
      ],
      "execution_count": 982,
      "outputs": [
        {
          "output_type": "stream",
          "text": [
            "['affirmation', 'unknown', 'what', 'when', 'who']\n",
            "(1483,)\n",
            "                                      clean_Question  Y\n",
            "0   how did serfdom develop in and then leave russia  1\n",
            "1     what films featured the character popeye doyle  2\n",
            "2    how can i find a list of celebrities real names  1\n",
            "3  what fowl grabs the spotlight after the chines...  2\n",
            "4                       what is the full form of com  2\n",
            "(1038, 3420)\n",
            "(445, 3420)\n",
            "(1038, 1)\n",
            "(445, 1)\n"
          ],
          "name": "stdout"
        }
      ]
    },
    {
      "metadata": {
        "id": "_csJTHTCbNMB",
        "colab_type": "text"
      },
      "cell_type": "markdown",
      "source": [
        "**Naive Bayes Classifier**- We can train a classifier to try to predict the type of a question. We will start with a Naive Bayes classifier, which provides a nice baseline for this task. Scikit-learn includes several variants of this classifier, the one most suitable for text is the multinomial variant."
      ]
    },
    {
      "metadata": {
        "id": "e53x-X78iWvR",
        "colab_type": "code",
        "colab": {
          "base_uri": "https://localhost:8080/",
          "height": 72
        },
        "outputId": "fed3ff32-794d-4cf4-9aaa-8ddc0887f4aa"
      },
      "cell_type": "code",
      "source": [
        "clf = naive_bayes.MultinomialNB()\n",
        "model=clf.fit(X_train, y_train)\n",
        "predicted_class=model.predict(X_test)"
      ],
      "execution_count": 983,
      "outputs": [
        {
          "output_type": "stream",
          "text": [
            "/usr/local/lib/python3.6/dist-packages/sklearn/utils/validation.py:761: DataConversionWarning: A column-vector y was passed when a 1d array was expected. Please change the shape of y to (n_samples, ), for example using ravel().\n",
            "  y = column_or_1d(y, warn=True)\n"
          ],
          "name": "stderr"
        }
      ]
    },
    {
      "metadata": {
        "id": "0d_blN2xmo7J",
        "colab_type": "code",
        "colab": {
          "base_uri": "https://localhost:8080/",
          "height": 301
        },
        "outputId": "68ea1850-f845-4006-90e6-99bc05ae43a9"
      },
      "cell_type": "code",
      "source": [
        "print(classification_report(predicted_class,y_test))\n",
        "print(\"Accuracy :\",clf.score(X_test,y_test))"
      ],
      "execution_count": 984,
      "outputs": [
        {
          "output_type": "stream",
          "text": [
            "              precision    recall  f1-score   support\n",
            "\n",
            "           0       0.00      0.00      0.00         0\n",
            "           1       0.13      1.00      0.23        11\n",
            "           2       0.93      0.47      0.62       366\n",
            "           3       0.00      0.00      0.00         0\n",
            "           4       0.37      0.63      0.47        68\n",
            "\n",
            "   micro avg       0.51      0.51      0.51       445\n",
            "   macro avg       0.29      0.42      0.27       445\n",
            "weighted avg       0.83      0.51      0.59       445\n",
            "\n",
            "Accuracy : 0.5078651685393258\n"
          ],
          "name": "stdout"
        },
        {
          "output_type": "stream",
          "text": [
            "/usr/local/lib/python3.6/dist-packages/sklearn/metrics/classification.py:1145: UndefinedMetricWarning: Recall and F-score are ill-defined and being set to 0.0 in labels with no true samples.\n",
            "  'recall', 'true', average, warn_for)\n"
          ],
          "name": "stderr"
        }
      ]
    },
    {
      "metadata": {
        "id": "8900yCWsnNLn",
        "colab_type": "code",
        "colab": {
          "base_uri": "https://localhost:8080/",
          "height": 195
        },
        "outputId": "0248b04d-4cef-4db4-94b9-1a82a591765d"
      },
      "cell_type": "code",
      "source": [
        "\n",
        "np.random.seed(42) # set numpy seed before importing keras.\n",
        "df.head()"
      ],
      "execution_count": 985,
      "outputs": [
        {
          "output_type": "execute_result",
          "data": {
            "text/html": [
              "<div>\n",
              "<style scoped>\n",
              "    .dataframe tbody tr th:only-of-type {\n",
              "        vertical-align: middle;\n",
              "    }\n",
              "\n",
              "    .dataframe tbody tr th {\n",
              "        vertical-align: top;\n",
              "    }\n",
              "\n",
              "    .dataframe thead th {\n",
              "        text-align: right;\n",
              "    }\n",
              "</style>\n",
              "<table border=\"1\" class=\"dataframe\">\n",
              "  <thead>\n",
              "    <tr style=\"text-align: right;\">\n",
              "      <th></th>\n",
              "      <th>type</th>\n",
              "      <th>clean_Question</th>\n",
              "    </tr>\n",
              "  </thead>\n",
              "  <tbody>\n",
              "    <tr>\n",
              "      <th>0</th>\n",
              "      <td>unknown</td>\n",
              "      <td>how did serfdom develop in and then leave russia</td>\n",
              "    </tr>\n",
              "    <tr>\n",
              "      <th>1</th>\n",
              "      <td>what</td>\n",
              "      <td>what films featured the character popeye doyle</td>\n",
              "    </tr>\n",
              "    <tr>\n",
              "      <th>2</th>\n",
              "      <td>unknown</td>\n",
              "      <td>how can i find a list of celebrities real names</td>\n",
              "    </tr>\n",
              "    <tr>\n",
              "      <th>3</th>\n",
              "      <td>what</td>\n",
              "      <td>what fowl grabs the spotlight after the chines...</td>\n",
              "    </tr>\n",
              "    <tr>\n",
              "      <th>4</th>\n",
              "      <td>what</td>\n",
              "      <td>what is the full form of com</td>\n",
              "    </tr>\n",
              "  </tbody>\n",
              "</table>\n",
              "</div>"
            ],
            "text/plain": [
              "      type                                     clean_Question\n",
              "0  unknown   how did serfdom develop in and then leave russia\n",
              "1     what     what films featured the character popeye doyle\n",
              "2  unknown    how can i find a list of celebrities real names\n",
              "3     what  what fowl grabs the spotlight after the chines...\n",
              "4     what                       what is the full form of com"
            ]
          },
          "metadata": {
            "tags": []
          },
          "execution_count": 985
        }
      ]
    },
    {
      "metadata": {
        "id": "csh9Pu47bUeD",
        "colab_type": "text"
      },
      "cell_type": "markdown",
      "source": [
        "# **Convert Each Question to a Word List before feeding to Word2Vec**"
      ]
    },
    {
      "metadata": {
        "id": "EIYCfrLGbUAI",
        "colab_type": "code",
        "colab": {}
      },
      "cell_type": "code",
      "source": [
        "documents = []\n"
      ],
      "execution_count": 0,
      "outputs": []
    },
    {
      "metadata": {
        "id": "ne9UJL9zboGn",
        "colab_type": "code",
        "colab": {}
      },
      "cell_type": "code",
      "source": [
        "for doc in df['clean_Question']:\n",
        "    documents.append(doc.split(' '))"
      ],
      "execution_count": 0,
      "outputs": []
    },
    {
      "metadata": {
        "id": "R9J3iOIVcD20",
        "colab_type": "text"
      },
      "cell_type": "markdown",
      "source": [
        "# Build the Model"
      ]
    },
    {
      "metadata": {
        "id": "-RytYQhacCPM",
        "colab_type": "code",
        "colab": {}
      },
      "cell_type": "code",
      "source": [
        "#Build the model\n",
        "\n",
        "model = gensim.models.Word2Vec(documents, #Word list\n",
        "                               min_count=3, #Ignore all words with total frequency lower than this                           \n",
        "                               workers=4, #Number of CPUs, no of CPU cores\n",
        "                               size=50,  #Embedding size,no of neurons\n",
        "                               window=4, #Maximum Distance between current and predicted word, consider 5 neighbours on the left and 5 neighbours on the right\n",
        "                               iter=10   #Number of iterations over the text corpus, how many times the network should run\n",
        "                              )  "
      ],
      "execution_count": 0,
      "outputs": []
    },
    {
      "metadata": {
        "id": "FUvSOER5dRYl",
        "colab_type": "text"
      },
      "cell_type": "markdown",
      "source": [
        "# Exploring the model\n",
        "How many words in the model and how many features"
      ]
    },
    {
      "metadata": {
        "id": "bfFxuhLCdOF3",
        "colab_type": "code",
        "colab": {
          "base_uri": "https://localhost:8080/",
          "height": 90
        },
        "outputId": "a9215821-715b-480f-c825-1411dd087f0c"
      },
      "cell_type": "code",
      "source": [
        "model.wv.syn0.shape "
      ],
      "execution_count": 989,
      "outputs": [
        {
          "output_type": "stream",
          "text": [
            "/usr/local/lib/python3.6/dist-packages/ipykernel_launcher.py:1: DeprecationWarning: Call to deprecated `syn0` (Attribute will be removed in 4.0.0, use self.wv.vectors instead).\n",
            "  \"\"\"Entry point for launching an IPython kernel.\n"
          ],
          "name": "stderr"
        },
        {
          "output_type": "execute_result",
          "data": {
            "text/plain": [
              "(622, 50)"
            ]
          },
          "metadata": {
            "tags": []
          },
          "execution_count": 989
        }
      ]
    },
    {
      "metadata": {
        "id": "9ns4Nc1Xd9aI",
        "colab_type": "code",
        "colab": {
          "base_uri": "https://localhost:8080/",
          "height": 10964
        },
        "outputId": "5ce68c04-0e01-4fca-f69c-1cf393bbbe0f"
      },
      "cell_type": "code",
      "source": [
        "model.wv.vocab"
      ],
      "execution_count": 990,
      "outputs": [
        {
          "output_type": "execute_result",
          "data": {
            "text/plain": [
              "{'a': <gensim.models.keyedvectors.Vocab at 0x7f81b05d4550>,\n",
              " 'abbreviation': <gensim.models.keyedvectors.Vocab at 0x7f81b05c84a8>,\n",
              " 'about': <gensim.models.keyedvectors.Vocab at 0x7f81b060a518>,\n",
              " 'academy': <gensim.models.keyedvectors.Vocab at 0x7f81b060ab00>,\n",
              " 'actor': <gensim.models.keyedvectors.Vocab at 0x7f81b05af8d0>,\n",
              " 'actress': <gensim.models.keyedvectors.Vocab at 0x7f81b05a6780>,\n",
              " 'address': <gensim.models.keyedvectors.Vocab at 0x7f81b060ae10>,\n",
              " 'africa': <gensim.models.keyedvectors.Vocab at 0x7f81b05af668>,\n",
              " 'after': <gensim.models.keyedvectors.Vocab at 0x7f81b05d4668>,\n",
              " 'air': <gensim.models.keyedvectors.Vocab at 0x7f81b05a6dd8>,\n",
              " 'airplane': <gensim.models.keyedvectors.Vocab at 0x7f81b05fe9e8>,\n",
              " 'airport': <gensim.models.keyedvectors.Vocab at 0x7f81b05f56d8>,\n",
              " 'al': <gensim.models.keyedvectors.Vocab at 0x7f81b05fe0f0>,\n",
              " 'all': <gensim.models.keyedvectors.Vocab at 0x7f81b05f5d68>,\n",
              " 'amendment': <gensim.models.keyedvectors.Vocab at 0x7f81b05d4eb8>,\n",
              " 'america': <gensim.models.keyedvectors.Vocab at 0x7f81b060acf8>,\n",
              " 'american': <gensim.models.keyedvectors.Vocab at 0x7f81b05a6a90>,\n",
              " 'an': <gensim.models.keyedvectors.Vocab at 0x7f81b05c80b8>,\n",
              " 'and': <gensim.models.keyedvectors.Vocab at 0x7f81b05d4320>,\n",
              " 'animal': <gensim.models.keyedvectors.Vocab at 0x7f81b060a400>,\n",
              " 'animals': <gensim.models.keyedvectors.Vocab at 0x7f81b05abcf8>,\n",
              " 'answers': <gensim.models.keyedvectors.Vocab at 0x7f81b060add8>,\n",
              " 'any': <gensim.models.keyedvectors.Vocab at 0x7f81b05f5cf8>,\n",
              " 'are': <gensim.models.keyedvectors.Vocab at 0x7f81b05d4a58>,\n",
              " 'art': <gensim.models.keyedvectors.Vocab at 0x7f81b05fe630>,\n",
              " 'as': <gensim.models.keyedvectors.Vocab at 0x7f81b05c89e8>,\n",
              " 'asked': <gensim.models.keyedvectors.Vocab at 0x7f81b05fe860>,\n",
              " 'at': <gensim.models.keyedvectors.Vocab at 0x7f81b05ab6d8>,\n",
              " 'author': <gensim.models.keyedvectors.Vocab at 0x7f81b060a4e0>,\n",
              " 'average': <gensim.models.keyedvectors.Vocab at 0x7f81b05f5c88>,\n",
              " 'award': <gensim.models.keyedvectors.Vocab at 0x7f81b05f54e0>,\n",
              " 'away': <gensim.models.keyedvectors.Vocab at 0x7f81b05fe208>,\n",
              " 'b': <gensim.models.keyedvectors.Vocab at 0x7f81b05fe2b0>,\n",
              " 'baby': <gensim.models.keyedvectors.Vocab at 0x7f81b05a63c8>,\n",
              " 'back': <gensim.models.keyedvectors.Vocab at 0x7f81b05a6198>,\n",
              " 'ball': <gensim.models.keyedvectors.Vocab at 0x7f81b05af978>,\n",
              " 'baseball': <gensim.models.keyedvectors.Vocab at 0x7f81b05d48d0>,\n",
              " 'battle': <gensim.models.keyedvectors.Vocab at 0x7f81b05af438>,\n",
              " 'be': <gensim.models.keyedvectors.Vocab at 0x7f81b05a6048>,\n",
              " 'bear': <gensim.models.keyedvectors.Vocab at 0x7f81b05c8a20>,\n",
              " 'beatles': <gensim.models.keyedvectors.Vocab at 0x7f81b05a6be0>,\n",
              " 'because': <gensim.models.keyedvectors.Vocab at 0x7f81b05f37b8>,\n",
              " 'become': <gensim.models.keyedvectors.Vocab at 0x7f81b05d49b0>,\n",
              " 'been': <gensim.models.keyedvectors.Vocab at 0x7f81b05f5908>,\n",
              " 'beer': <gensim.models.keyedvectors.Vocab at 0x7f81b060a5c0>,\n",
              " 'beers': <gensim.models.keyedvectors.Vocab at 0x7f81b05f5c50>,\n",
              " 'before': <gensim.models.keyedvectors.Vocab at 0x7f81b060a748>,\n",
              " 'begin': <gensim.models.keyedvectors.Vocab at 0x7f81b05ab9e8>,\n",
              " 'being': <gensim.models.keyedvectors.Vocab at 0x7f81b05f3780>,\n",
              " 'believe': <gensim.models.keyedvectors.Vocab at 0x7f81b05c87b8>,\n",
              " 'ben': <gensim.models.keyedvectors.Vocab at 0x7f81b05f3cf8>,\n",
              " 'berlin': <gensim.models.keyedvectors.Vocab at 0x7f81b060a080>,\n",
              " 'best': <gensim.models.keyedvectors.Vocab at 0x7f81b05a6d30>,\n",
              " 'between': <gensim.models.keyedvectors.Vocab at 0x7f81b05f54a8>,\n",
              " 'bible': <gensim.models.keyedvectors.Vocab at 0x7f81b05f3208>,\n",
              " 'biggest': <gensim.models.keyedvectors.Vocab at 0x7f81b05a6f28>,\n",
              " 'bill': <gensim.models.keyedvectors.Vocab at 0x7f81b05f34e0>,\n",
              " 'black': <gensim.models.keyedvectors.Vocab at 0x7f81b060a208>,\n",
              " 'board': <gensim.models.keyedvectors.Vocab at 0x7f81b05af588>,\n",
              " 'boasts': <gensim.models.keyedvectors.Vocab at 0x7f81b05d4e10>,\n",
              " 'body': <gensim.models.keyedvectors.Vocab at 0x7f81b05ab390>,\n",
              " 'bomb': <gensim.models.keyedvectors.Vocab at 0x7f81b05f3f28>,\n",
              " 'book': <gensim.models.keyedvectors.Vocab at 0x7f81b05c8e10>,\n",
              " 'books': <gensim.models.keyedvectors.Vocab at 0x7f81b05a6208>,\n",
              " 'born': <gensim.models.keyedvectors.Vocab at 0x7f81b05d4ba8>,\n",
              " 'bowl': <gensim.models.keyedvectors.Vocab at 0x7f81b05a6e10>,\n",
              " 'bowling': <gensim.models.keyedvectors.Vocab at 0x7f81b05c85c0>,\n",
              " 'boxing': <gensim.models.keyedvectors.Vocab at 0x7f81b05c8128>,\n",
              " 'bridge': <gensim.models.keyedvectors.Vocab at 0x7f81b05f30f0>,\n",
              " 'british': <gensim.models.keyedvectors.Vocab at 0x7f81b05afc18>,\n",
              " 'broken': <gensim.models.keyedvectors.Vocab at 0x7f81b05afb00>,\n",
              " 'brown': <gensim.models.keyedvectors.Vocab at 0x7f81b05f3c88>,\n",
              " 'building': <gensim.models.keyedvectors.Vocab at 0x7f81b05f3c18>,\n",
              " 'built': <gensim.models.keyedvectors.Vocab at 0x7f81b060a048>,\n",
              " 'but': <gensim.models.keyedvectors.Vocab at 0x7f81b05f5438>,\n",
              " 'by': <gensim.models.keyedvectors.Vocab at 0x7f81b05abf60>,\n",
              " 'c': <gensim.models.keyedvectors.Vocab at 0x7f81b05afc88>,\n",
              " 'california': <gensim.models.keyedvectors.Vocab at 0x7f81b060a4a8>,\n",
              " 'call': <gensim.models.keyedvectors.Vocab at 0x7f81b060a668>,\n",
              " 'called': <gensim.models.keyedvectors.Vocab at 0x7f81b05abbe0>,\n",
              " 'came': <gensim.models.keyedvectors.Vocab at 0x7f81b060a780>,\n",
              " 'camp': <gensim.models.keyedvectors.Vocab at 0x7f81b05fe240>,\n",
              " 'can': <gensim.models.keyedvectors.Vocab at 0x7f81b05d44a8>,\n",
              " 'canada': <gensim.models.keyedvectors.Vocab at 0x7f81b060a1d0>,\n",
              " 'capital': <gensim.models.keyedvectors.Vocab at 0x7f81b05ab2b0>,\n",
              " 'car': <gensim.models.keyedvectors.Vocab at 0x7f81b05a6e80>,\n",
              " 'cards': <gensim.models.keyedvectors.Vocab at 0x7f81b05c8748>,\n",
              " 'career': <gensim.models.keyedvectors.Vocab at 0x7f81b05fe5c0>,\n",
              " 'cartoon': <gensim.models.keyedvectors.Vocab at 0x7f81b05abeb8>,\n",
              " 'case': <gensim.models.keyedvectors.Vocab at 0x7f81b05f5390>,\n",
              " 'cash': <gensim.models.keyedvectors.Vocab at 0x7f81b05c8a90>,\n",
              " 'caused': <gensim.models.keyedvectors.Vocab at 0x7f81b05afcf8>,\n",
              " 'causes': <gensim.models.keyedvectors.Vocab at 0x7f81b05aba20>,\n",
              " 'center': <gensim.models.keyedvectors.Vocab at 0x7f81b05f58d0>,\n",
              " 'central': <gensim.models.keyedvectors.Vocab at 0x7f81b05aba90>,\n",
              " 'century': <gensim.models.keyedvectors.Vocab at 0x7f81b05ab5f8>,\n",
              " 'character': <gensim.models.keyedvectors.Vocab at 0x7f81b05d4470>,\n",
              " 'charles': <gensim.models.keyedvectors.Vocab at 0x7f81b060a0b8>,\n",
              " 'charlie': <gensim.models.keyedvectors.Vocab at 0x7f81b05f5dd8>,\n",
              " 'chemicals': <gensim.models.keyedvectors.Vocab at 0x7f81b060a7f0>,\n",
              " 'chicago': <gensim.models.keyedvectors.Vocab at 0x7f81b05f3be0>,\n",
              " 'chicken': <gensim.models.keyedvectors.Vocab at 0x7f81b060a7b8>,\n",
              " 'child': <gensim.models.keyedvectors.Vocab at 0x7f81b05af9e8>,\n",
              " 'citizen': <gensim.models.keyedvectors.Vocab at 0x7f81b05fe748>,\n",
              " 'city': <gensim.models.keyedvectors.Vocab at 0x7f81b05ab320>,\n",
              " 'classical': <gensim.models.keyedvectors.Vocab at 0x7f81b05f59e8>,\n",
              " 'clock': <gensim.models.keyedvectors.Vocab at 0x7f81b05f5588>,\n",
              " 'cnn': <gensim.models.keyedvectors.Vocab at 0x7f81b05ab9b0>,\n",
              " 'color': <gensim.models.keyedvectors.Vocab at 0x7f81b05ab080>,\n",
              " 'colors': <gensim.models.keyedvectors.Vocab at 0x7f81b060aa20>,\n",
              " 'com': <gensim.models.keyedvectors.Vocab at 0x7f81b05d4780>,\n",
              " 'come': <gensim.models.keyedvectors.Vocab at 0x7f81b05ab048>,\n",
              " 'comic': <gensim.models.keyedvectors.Vocab at 0x7f81b05abd68>,\n",
              " 'commercial': <gensim.models.keyedvectors.Vocab at 0x7f81b05afa58>,\n",
              " 'common': <gensim.models.keyedvectors.Vocab at 0x7f81b05a61d0>,\n",
              " 'company': <gensim.models.keyedvectors.Vocab at 0x7f81b05c85f8>,\n",
              " 'computer': <gensim.models.keyedvectors.Vocab at 0x7f81b05af5c0>,\n",
              " 'considered': <gensim.models.keyedvectors.Vocab at 0x7f81b05d4cf8>,\n",
              " 'constitution': <gensim.models.keyedvectors.Vocab at 0x7f81b05d4f28>,\n",
              " 'contains': <gensim.models.keyedvectors.Vocab at 0x7f81b05a6a58>,\n",
              " 'cooktops': <gensim.models.keyedvectors.Vocab at 0x7f81b05fea90>,\n",
              " 'cork': <gensim.models.keyedvectors.Vocab at 0x7f81b05d47f0>,\n",
              " 'cost': <gensim.models.keyedvectors.Vocab at 0x7f81b05a6748>,\n",
              " 'could': <gensim.models.keyedvectors.Vocab at 0x7f81b05af390>,\n",
              " 'countries': <gensim.models.keyedvectors.Vocab at 0x7f81b05a6b38>,\n",
              " 'country': <gensim.models.keyedvectors.Vocab at 0x7f81b05c8f28>,\n",
              " 'county': <gensim.models.keyedvectors.Vocab at 0x7f81b05af6a0>,\n",
              " 'course': <gensim.models.keyedvectors.Vocab at 0x7f81b05c83c8>,\n",
              " 'cover': <gensim.models.keyedvectors.Vocab at 0x7f81b05a6c18>,\n",
              " 'craft': <gensim.models.keyedvectors.Vocab at 0x7f81b060a3c8>,\n",
              " 'created': <gensim.models.keyedvectors.Vocab at 0x7f81b05af6d8>,\n",
              " 'current': <gensim.models.keyedvectors.Vocab at 0x7f81b05fe438>,\n",
              " 'd': <gensim.models.keyedvectors.Vocab at 0x7f81b05fe320>,\n",
              " 'date': <gensim.models.keyedvectors.Vocab at 0x7f81b05c80f0>,\n",
              " 'daughter': <gensim.models.keyedvectors.Vocab at 0x7f81b05f3da0>,\n",
              " 'day': <gensim.models.keyedvectors.Vocab at 0x7f81b05c8160>,\n",
              " 'de': <gensim.models.keyedvectors.Vocab at 0x7f81b05c8c50>,\n",
              " 'dead': <gensim.models.keyedvectors.Vocab at 0x7f81b05af940>,\n",
              " 'death': <gensim.models.keyedvectors.Vocab at 0x7f81b05afd30>,\n",
              " 'definition': <gensim.models.keyedvectors.Vocab at 0x7f81b05ab160>,\n",
              " 'degrees': <gensim.models.keyedvectors.Vocab at 0x7f81b05f3160>,\n",
              " 'desert': <gensim.models.keyedvectors.Vocab at 0x7f81b05af0b8>,\n",
              " 'desmond': <gensim.models.keyedvectors.Vocab at 0x7f81b05f3908>,\n",
              " 'developed': <gensim.models.keyedvectors.Vocab at 0x7f81b05fe780>,\n",
              " 'dick': <gensim.models.keyedvectors.Vocab at 0x7f81b05fe8d0>,\n",
              " 'did': <gensim.models.keyedvectors.Vocab at 0x7f81b05d42b0>,\n",
              " 'die': <gensim.models.keyedvectors.Vocab at 0x7f81b05af860>,\n",
              " 'died': <gensim.models.keyedvectors.Vocab at 0x7f81b05ab630>,\n",
              " 'diego': <gensim.models.keyedvectors.Vocab at 0x7f81b05f3ac8>,\n",
              " 'difference': <gensim.models.keyedvectors.Vocab at 0x7f81b05f57b8>,\n",
              " 'different': <gensim.models.keyedvectors.Vocab at 0x7f81b060a9e8>,\n",
              " 'dimensions': <gensim.models.keyedvectors.Vocab at 0x7f81b05fec18>,\n",
              " 'directed': <gensim.models.keyedvectors.Vocab at 0x7f81b05af2b0>,\n",
              " 'disease': <gensim.models.keyedvectors.Vocab at 0x7f81b05afe10>,\n",
              " 'dishwasher': <gensim.models.keyedvectors.Vocab at 0x7f81b05fea20>,\n",
              " 'do': <gensim.models.keyedvectors.Vocab at 0x7f81b05d4c18>,\n",
              " 'does': <gensim.models.keyedvectors.Vocab at 0x7f81b05c8470>,\n",
              " 'dog': <gensim.models.keyedvectors.Vocab at 0x7f81b05a66a0>,\n",
              " 'don': <gensim.models.keyedvectors.Vocab at 0x7f81b05a68d0>,\n",
              " 'door': <gensim.models.keyedvectors.Vocab at 0x7f81b05ab2e8>,\n",
              " 'drink': <gensim.models.keyedvectors.Vocab at 0x7f81b05f36a0>,\n",
              " 'dryer': <gensim.models.keyedvectors.Vocab at 0x7f81b05feba8>,\n",
              " 'dt': <gensim.models.keyedvectors.Vocab at 0x7f81b05aff60>,\n",
              " 'dubbed': <gensim.models.keyedvectors.Vocab at 0x7f81b05f5128>,\n",
              " 'during': <gensim.models.keyedvectors.Vocab at 0x7f81b05c8048>,\n",
              " 'e': <gensim.models.keyedvectors.Vocab at 0x7f81b05f36d8>,\n",
              " 'earth': <gensim.models.keyedvectors.Vocab at 0x7f81b05a6710>,\n",
              " 'eat': <gensim.models.keyedvectors.Vocab at 0x7f81b060a2e8>,\n",
              " 'education': <gensim.models.keyedvectors.Vocab at 0x7f81b05afa20>,\n",
              " 'el': <gensim.models.keyedvectors.Vocab at 0x7f81b060aba8>,\n",
              " 'electric': <gensim.models.keyedvectors.Vocab at 0x7f81b05f3a90>,\n",
              " 'element': <gensim.models.keyedvectors.Vocab at 0x7f81b05a6438>,\n",
              " 'emperor': <gensim.models.keyedvectors.Vocab at 0x7f81b05f5630>,\n",
              " 'empire': <gensim.models.keyedvectors.Vocab at 0x7f81b05f5898>,\n",
              " 'england': <gensim.models.keyedvectors.Vocab at 0x7f81b05f39e8>,\n",
              " 'english': <gensim.models.keyedvectors.Vocab at 0x7f81b05c82b0>,\n",
              " 'european': <gensim.models.keyedvectors.Vocab at 0x7f81b05ab748>,\n",
              " 'ever': <gensim.models.keyedvectors.Vocab at 0x7f81b05d4d68>,\n",
              " 'export': <gensim.models.keyedvectors.Vocab at 0x7f81b05f3400>,\n",
              " 'eyes': <gensim.models.keyedvectors.Vocab at 0x7f81b060a470>,\n",
              " 'f': <gensim.models.keyedvectors.Vocab at 0x7f81b05af400>,\n",
              " 'fame': <gensim.models.keyedvectors.Vocab at 0x7f81b05afcc0>,\n",
              " 'famous': <gensim.models.keyedvectors.Vocab at 0x7f81b05c8198>,\n",
              " 'far': <gensim.models.keyedvectors.Vocab at 0x7f81b05f3e80>,\n",
              " 'fastest': <gensim.models.keyedvectors.Vocab at 0x7f81b060a908>,\n",
              " 'father': <gensim.models.keyedvectors.Vocab at 0x7f81b05fe7f0>,\n",
              " 'fear': <gensim.models.keyedvectors.Vocab at 0x7f81b05ab940>,\n",
              " 'features': <gensim.models.keyedvectors.Vocab at 0x7f81b05aba58>,\n",
              " 'feet': <gensim.models.keyedvectors.Vocab at 0x7f81b05c8c18>,\n",
              " 'female': <gensim.models.keyedvectors.Vocab at 0x7f81b05abda0>,\n",
              " 'film': <gensim.models.keyedvectors.Vocab at 0x7f81b05a65c0>,\n",
              " 'films': <gensim.models.keyedvectors.Vocab at 0x7f81b05d4400>,\n",
              " 'filter': <gensim.models.keyedvectors.Vocab at 0x7f81b05feb00>,\n",
              " 'find': <gensim.models.keyedvectors.Vocab at 0x7f81b05d4518>,\n",
              " 'fire': <gensim.models.keyedvectors.Vocab at 0x7f81b05f5e80>,\n",
              " 'first': <gensim.models.keyedvectors.Vocab at 0x7f81b05c8ac8>,\n",
              " 'fit': <gensim.models.keyedvectors.Vocab at 0x7f81b05feb38>,\n",
              " 'flight': <gensim.models.keyedvectors.Vocab at 0x7f81b05afeb8>,\n",
              " 'florence': <gensim.models.keyedvectors.Vocab at 0x7f81b060a6a0>,\n",
              " 'followed': <gensim.models.keyedvectors.Vocab at 0x7f81b060ad30>,\n",
              " 'following': <gensim.models.keyedvectors.Vocab at 0x7f81b05abd30>,\n",
              " 'food': <gensim.models.keyedvectors.Vocab at 0x7f81b05f3f60>,\n",
              " 'for': <gensim.models.keyedvectors.Vocab at 0x7f81b05c8518>,\n",
              " 'forest': <gensim.models.keyedvectors.Vocab at 0x7f81b05af7b8>,\n",
              " 'form': <gensim.models.keyedvectors.Vocab at 0x7f81b05d4748>,\n",
              " 'former': <gensim.models.keyedvectors.Vocab at 0x7f81b05f38d0>,\n",
              " 'fought': <gensim.models.keyedvectors.Vocab at 0x7f81b060a358>,\n",
              " 'found': <gensim.models.keyedvectors.Vocab at 0x7f81b05ab8d0>,\n",
              " 'founded': <gensim.models.keyedvectors.Vocab at 0x7f81b05a6978>,\n",
              " 'four': <gensim.models.keyedvectors.Vocab at 0x7f81b05abf28>,\n",
              " 'france': <gensim.models.keyedvectors.Vocab at 0x7f81b05af240>,\n",
              " 'free': <gensim.models.keyedvectors.Vocab at 0x7f81b05c8a58>,\n",
              " 'french': <gensim.models.keyedvectors.Vocab at 0x7f81b05c8b70>,\n",
              " 'from': <gensim.models.keyedvectors.Vocab at 0x7f81b05d4828>,\n",
              " 'full': <gensim.models.keyedvectors.Vocab at 0x7f81b05d4710>,\n",
              " 'g': <gensim.models.keyedvectors.Vocab at 0x7f81b05f5518>,\n",
              " 'gamble': <gensim.models.keyedvectors.Vocab at 0x7f81b05f5ba8>,\n",
              " 'game': <gensim.models.keyedvectors.Vocab at 0x7f81b05c86a0>,\n",
              " 'games': <gensim.models.keyedvectors.Vocab at 0x7f81b060a978>,\n",
              " 'gas': <gensim.models.keyedvectors.Vocab at 0x7f81b05fe7b8>,\n",
              " 'gate': <gensim.models.keyedvectors.Vocab at 0x7f81b05f3128>,\n",
              " 'general': <gensim.models.keyedvectors.Vocab at 0x7f81b05f5470>,\n",
              " 'george': <gensim.models.keyedvectors.Vocab at 0x7f81b05afe48>,\n",
              " 'germany': <gensim.models.keyedvectors.Vocab at 0x7f81b05fe4e0>,\n",
              " 'get': <gensim.models.keyedvectors.Vocab at 0x7f81b05ab358>,\n",
              " 'girl': <gensim.models.keyedvectors.Vocab at 0x7f81b060aa58>,\n",
              " 'give': <gensim.models.keyedvectors.Vocab at 0x7f81b05f5940>,\n",
              " 'go': <gensim.models.keyedvectors.Vocab at 0x7f81b05abdd8>,\n",
              " 'god': <gensim.models.keyedvectors.Vocab at 0x7f81b05fe550>,\n",
              " 'gold': <gensim.models.keyedvectors.Vocab at 0x7f81b05afbe0>,\n",
              " 'golf': <gensim.models.keyedvectors.Vocab at 0x7f81b05c8390>,\n",
              " 'golfer': <gensim.models.keyedvectors.Vocab at 0x7f81b060ada0>,\n",
              " 'good': <gensim.models.keyedvectors.Vocab at 0x7f81b060a320>,\n",
              " 'governor': <gensim.models.keyedvectors.Vocab at 0x7f81b05f5a20>,\n",
              " 'great': <gensim.models.keyedvectors.Vocab at 0x7f81b05ab7b8>,\n",
              " 'greek': <gensim.models.keyedvectors.Vocab at 0x7f81b05fe5f8>,\n",
              " 'green': <gensim.models.keyedvectors.Vocab at 0x7f81b05aff98>,\n",
              " 'group': <gensim.models.keyedvectors.Vocab at 0x7f81b05f3a20>,\n",
              " 'had': <gensim.models.keyedvectors.Vocab at 0x7f81b05a6ef0>,\n",
              " 'hair': <gensim.models.keyedvectors.Vocab at 0x7f81b05abc88>,\n",
              " 'happened': <gensim.models.keyedvectors.Vocab at 0x7f81b05fe0b8>,\n",
              " 'has': <gensim.models.keyedvectors.Vocab at 0x7f81b05d4d30>,\n",
              " 'have': <gensim.models.keyedvectors.Vocab at 0x7f81b05a6390>,\n",
              " 'he': <gensim.models.keyedvectors.Vocab at 0x7f81b05abe48>,\n",
              " 'head': <gensim.models.keyedvectors.Vocab at 0x7f81b05ab828>,\n",
              " 'headquarters': <gensim.models.keyedvectors.Vocab at 0x7f81b05ab710>,\n",
              " 'henry': <gensim.models.keyedvectors.Vocab at 0x7f81b05fe400>,\n",
              " 'her': <gensim.models.keyedvectors.Vocab at 0x7f81b05f3358>,\n",
              " 'hero': <gensim.models.keyedvectors.Vocab at 0x7f81b060a278>,\n",
              " 'highest': <gensim.models.keyedvectors.Vocab at 0x7f81b05c82e8>,\n",
              " 'himself': <gensim.models.keyedvectors.Vocab at 0x7f81b05fe588>,\n",
              " 'his': <gensim.models.keyedvectors.Vocab at 0x7f81b05abf98>,\n",
              " 'historical': <gensim.models.keyedvectors.Vocab at 0x7f81b05a6400>,\n",
              " 'history': <gensim.models.keyedvectors.Vocab at 0x7f81b05ab4a8>,\n",
              " 'hit': <gensim.models.keyedvectors.Vocab at 0x7f81b05f3630>,\n",
              " 'hitler': <gensim.models.keyedvectors.Vocab at 0x7f81b05f5a90>,\n",
              " 'holds': <gensim.models.keyedvectors.Vocab at 0x7f81b05fe048>,\n",
              " 'holmes': <gensim.models.keyedvectors.Vocab at 0x7f81b05fe940>,\n",
              " 'home': <gensim.models.keyedvectors.Vocab at 0x7f81b05ab6a0>,\n",
              " 'horse': <gensim.models.keyedvectors.Vocab at 0x7f81b05c8d30>,\n",
              " 'host': <gensim.models.keyedvectors.Vocab at 0x7f81b05f3320>,\n",
              " 'house': <gensim.models.keyedvectors.Vocab at 0x7f81b05ab470>,\n",
              " 'how': <gensim.models.keyedvectors.Vocab at 0x7f81b05d4278>,\n",
              " 'hulk': <gensim.models.keyedvectors.Vocab at 0x7f81b05f3588>,\n",
              " 'humidifier': <gensim.models.keyedvectors.Vocab at 0x7f81b05feac8>,\n",
              " 'husband': <gensim.models.keyedvectors.Vocab at 0x7f81b05fe358>,\n",
              " 'i': <gensim.models.keyedvectors.Vocab at 0x7f81b05d44e0>,\n",
              " 'if': <gensim.models.keyedvectors.Vocab at 0x7f81b05f3b00>,\n",
              " 'in': <gensim.models.keyedvectors.Vocab at 0x7f81b05d42e8>,\n",
              " 'inch': <gensim.models.keyedvectors.Vocab at 0x7f81b05c8080>,\n",
              " 'india': <gensim.models.keyedvectors.Vocab at 0x7f81b05f3ef0>,\n",
              " 'indian': <gensim.models.keyedvectors.Vocab at 0x7f81b05af3c8>,\n",
              " 'indians': <gensim.models.keyedvectors.Vocab at 0x7f81b05f5978>,\n",
              " 'information': <gensim.models.keyedvectors.Vocab at 0x7f81b05f5a58>,\n",
              " 'inspired': <gensim.models.keyedvectors.Vocab at 0x7f81b05c8d68>,\n",
              " 'instrument': <gensim.models.keyedvectors.Vocab at 0x7f81b05a6518>,\n",
              " 'international': <gensim.models.keyedvectors.Vocab at 0x7f81b05a60f0>,\n",
              " 'internet': <gensim.models.keyedvectors.Vocab at 0x7f81b05a6080>,\n",
              " 'into': <gensim.models.keyedvectors.Vocab at 0x7f81b05ab438>,\n",
              " 'introduced': <gensim.models.keyedvectors.Vocab at 0x7f81b060a240>,\n",
              " 'invented': <gensim.models.keyedvectors.Vocab at 0x7f81b05abc18>,\n",
              " 'irish': <gensim.models.keyedvectors.Vocab at 0x7f81b05f5668>,\n",
              " 'is': <gensim.models.keyedvectors.Vocab at 0x7f81b05d46d8>,\n",
              " 'island': <gensim.models.keyedvectors.Vocab at 0x7f81b05f32e8>,\n",
              " 'islands': <gensim.models.keyedvectors.Vocab at 0x7f81b05c8f60>,\n",
              " 'israel': <gensim.models.keyedvectors.Vocab at 0x7f81b05f3828>,\n",
              " 'it': <gensim.models.keyedvectors.Vocab at 0x7f81b05ab278>,\n",
              " 'its': <gensim.models.keyedvectors.Vocab at 0x7f81b05a64a8>,\n",
              " 'james': <gensim.models.keyedvectors.Vocab at 0x7f81b060af60>,\n",
              " 'jaws': <gensim.models.keyedvectors.Vocab at 0x7f81b05af2e8>,\n",
              " 'jean': <gensim.models.keyedvectors.Vocab at 0x7f81b05a66d8>,\n",
              " 'john': <gensim.models.keyedvectors.Vocab at 0x7f81b05c8da0>,\n",
              " 'johnny': <gensim.models.keyedvectors.Vocab at 0x7f81b05ab0b8>,\n",
              " 'jude': <gensim.models.keyedvectors.Vocab at 0x7f81b05a6630>,\n",
              " 'just': <gensim.models.keyedvectors.Vocab at 0x7f81b05af048>,\n",
              " 'k': <gensim.models.keyedvectors.Vocab at 0x7f81b05af5f8>,\n",
              " 'keep': <gensim.models.keyedvectors.Vocab at 0x7f81b05fe390>,\n",
              " 'kennedy': <gensim.models.keyedvectors.Vocab at 0x7f81b060aa90>,\n",
              " 'kid': <gensim.models.keyedvectors.Vocab at 0x7f81b05f35c0>,\n",
              " 'killed': <gensim.models.keyedvectors.Vocab at 0x7f81b05d4cc0>,\n",
              " 'kind': <gensim.models.keyedvectors.Vocab at 0x7f81b05abcc0>,\n",
              " 'king': <gensim.models.keyedvectors.Vocab at 0x7f81b05ab908>,\n",
              " 'kit': <gensim.models.keyedvectors.Vocab at 0x7f81b05febe0>,\n",
              " 'know': <gensim.models.keyedvectors.Vocab at 0x7f81b05f3d30>,\n",
              " 'known': <gensim.models.keyedvectors.Vocab at 0x7f81b05c89b0>,\n",
              " 'lady': <gensim.models.keyedvectors.Vocab at 0x7f81b05fe828>,\n",
              " 'language': <gensim.models.keyedvectors.Vocab at 0x7f81b05f5f98>,\n",
              " 'largest': <gensim.models.keyedvectors.Vocab at 0x7f81b05abfd0>,\n",
              " 'last': <gensim.models.keyedvectors.Vocab at 0x7f81b060a198>,\n",
              " 'latin': <gensim.models.keyedvectors.Vocab at 0x7f81b060a0f0>,\n",
              " 'law': <gensim.models.keyedvectors.Vocab at 0x7f81b05a6668>,\n",
              " 'lawyer': <gensim.models.keyedvectors.Vocab at 0x7f81b05f55c0>,\n",
              " 'leader': <gensim.models.keyedvectors.Vocab at 0x7f81b05f5358>,\n",
              " 'leading': <gensim.models.keyedvectors.Vocab at 0x7f81b060ae48>,\n",
              " 'league': <gensim.models.keyedvectors.Vocab at 0x7f81b05fe1d0>,\n",
              " 'leave': <gensim.models.keyedvectors.Vocab at 0x7f81b05d4358>,\n",
              " 'like': <gensim.models.keyedvectors.Vocab at 0x7f81b05af9b0>,\n",
              " 'line': <gensim.models.keyedvectors.Vocab at 0x7f81b05a6cc0>,\n",
              " 'list': <gensim.models.keyedvectors.Vocab at 0x7f81b05d4588>,\n",
              " 'little': <gensim.models.keyedvectors.Vocab at 0x7f81b05a6828>,\n",
              " 'live': <gensim.models.keyedvectors.Vocab at 0x7f81b05c8828>,\n",
              " 'lived': <gensim.models.keyedvectors.Vocab at 0x7f81b05ab0f0>,\n",
              " 'lives': <gensim.models.keyedvectors.Vocab at 0x7f81b05af550>,\n",
              " 'll': <gensim.models.keyedvectors.Vocab at 0x7f81b05f51d0>,\n",
              " 'located': <gensim.models.keyedvectors.Vocab at 0x7f81b05f55f8>,\n",
              " 'logan': <gensim.models.keyedvectors.Vocab at 0x7f81b05f3470>,\n",
              " 'long': <gensim.models.keyedvectors.Vocab at 0x7f81b05a6320>,\n",
              " 'longest': <gensim.models.keyedvectors.Vocab at 0x7f81b05f5748>,\n",
              " 'look': <gensim.models.keyedvectors.Vocab at 0x7f81b05fe6a0>,\n",
              " 'loss': <gensim.models.keyedvectors.Vocab at 0x7f81b060a128>,\n",
              " 'louis': <gensim.models.keyedvectors.Vocab at 0x7f81b05d4978>,\n",
              " 'love': <gensim.models.keyedvectors.Vocab at 0x7f81b05f3550>,\n",
              " 'low': <gensim.models.keyedvectors.Vocab at 0x7f81b05f3b38>,\n",
              " 'made': <gensim.models.keyedvectors.Vocab at 0x7f81b060abe0>,\n",
              " 'major': <gensim.models.keyedvectors.Vocab at 0x7f81b05fe198>,\n",
              " 'make': <gensim.models.keyedvectors.Vocab at 0x7f81b05c8550>,\n",
              " 'maker': <gensim.models.keyedvectors.Vocab at 0x7f81b05a6eb8>,\n",
              " 'makes': <gensim.models.keyedvectors.Vocab at 0x7f81b05a69b0>,\n",
              " 'man': <gensim.models.keyedvectors.Vocab at 0x7f81b05c87f0>,\n",
              " 'many': <gensim.models.keyedvectors.Vocab at 0x7f81b05d4f98>,\n",
              " 'market': <gensim.models.keyedvectors.Vocab at 0x7f81b05a6f98>,\n",
              " 'married': <gensim.models.keyedvectors.Vocab at 0x7f81b05f5b00>,\n",
              " 'massachusetts': <gensim.models.keyedvectors.Vocab at 0x7f81b05fe3c8>,\n",
              " 'maurizio': <gensim.models.keyedvectors.Vocab at 0x7f81b05af4e0>,\n",
              " 'me': <gensim.models.keyedvectors.Vocab at 0x7f81b05a6cf8>,\n",
              " 'mean': <gensim.models.keyedvectors.Vocab at 0x7f81b05ab198>,\n",
              " 'meaning': <gensim.models.keyedvectors.Vocab at 0x7f81b05abb00>,\n",
              " 'member': <gensim.models.keyedvectors.Vocab at 0x7f81b060a588>,\n",
              " 'men': <gensim.models.keyedvectors.Vocab at 0x7f81b05f3898>,\n",
              " 'minister': <gensim.models.keyedvectors.Vocab at 0x7f81b05af160>,\n",
              " 'miss': <gensim.models.keyedvectors.Vocab at 0x7f81b060aeb8>,\n",
              " 'mississippi': <gensim.models.keyedvectors.Vocab at 0x7f81b05ab898>,\n",
              " 'model': <gensim.models.keyedvectors.Vocab at 0x7f81b05f5ac8>,\n",
              " 'money': <gensim.models.keyedvectors.Vocab at 0x7f81b05a6160>,\n",
              " 'months': <gensim.models.keyedvectors.Vocab at 0x7f81b05af198>,\n",
              " 'moon': <gensim.models.keyedvectors.Vocab at 0x7f81b05af1d0>,\n",
              " 'more': <gensim.models.keyedvectors.Vocab at 0x7f81b05f5fd0>,\n",
              " 'most': <gensim.models.keyedvectors.Vocab at 0x7f81b05d4e48>,\n",
              " 'mother': <gensim.models.keyedvectors.Vocab at 0x7f81b05afba8>,\n",
              " 'mount': <gensim.models.keyedvectors.Vocab at 0x7f81b060a160>,\n",
              " 'mountain': <gensim.models.keyedvectors.Vocab at 0x7f81b05afda0>,\n",
              " 'movie': <gensim.models.keyedvectors.Vocab at 0x7f81b05a6588>,\n",
              " 'much': <gensim.models.keyedvectors.Vocab at 0x7f81b05a6128>,\n",
              " 'musical': <gensim.models.keyedvectors.Vocab at 0x7f81b05a6898>,\n",
              " 'my': <gensim.models.keyedvectors.Vocab at 0x7f81b05d4860>,\n",
              " 'n': <gensim.models.keyedvectors.Vocab at 0x7f81b05a6b70>,\n",
              " 'name': <gensim.models.keyedvectors.Vocab at 0x7f81b05d4a90>,\n",
              " 'named': <gensim.models.keyedvectors.Vocab at 0x7f81b05a6470>,\n",
              " 'names': <gensim.models.keyedvectors.Vocab at 0x7f81b05d4630>,\n",
              " 'national': <gensim.models.keyedvectors.Vocab at 0x7f81b05abba8>,\n",
              " 'nature': <gensim.models.keyedvectors.Vocab at 0x7f81b05c8898>,\n",
              " 'need': <gensim.models.keyedvectors.Vocab at 0x7f81b05f33c8>,\n",
              " 'needs': <gensim.models.keyedvectors.Vocab at 0x7f81b05fe9b0>,\n",
              " 'never': <gensim.models.keyedvectors.Vocab at 0x7f81b05f5b38>,\n",
              " 'new': <gensim.models.keyedvectors.Vocab at 0x7f81b05ab978>,\n",
              " 'newspaper': <gensim.models.keyedvectors.Vocab at 0x7f81b05ab588>,\n",
              " 'nickname': <gensim.models.keyedvectors.Vocab at 0x7f81b05ab860>,\n",
              " 'night': <gensim.models.keyedvectors.Vocab at 0x7f81b05f5eb8>,\n",
              " 'nixon': <gensim.models.keyedvectors.Vocab at 0x7f81b05fe4a8>,\n",
              " 'nn': <gensim.models.keyedvectors.Vocab at 0x7f81b05aff28>,\n",
              " 'no': <gensim.models.keyedvectors.Vocab at 0x7f81b060a828>,\n",
              " 'nobel': <gensim.models.keyedvectors.Vocab at 0x7f81b05f5048>,\n",
              " 'north': <gensim.models.keyedvectors.Vocab at 0x7f81b05af080>,\n",
              " 'not': <gensim.models.keyedvectors.Vocab at 0x7f81b05c8e48>,\n",
              " 'novel': <gensim.models.keyedvectors.Vocab at 0x7f81b05a6550>,\n",
              " 'number': <gensim.models.keyedvectors.Vocab at 0x7f81b060ac18>,\n",
              " 'numbers': <gensim.models.keyedvectors.Vocab at 0x7f81b05f3e48>,\n",
              " 'o': <gensim.models.keyedvectors.Vocab at 0x7f81b05afb70>,\n",
              " 'occur': <gensim.models.keyedvectors.Vocab at 0x7f81b05a6da0>,\n",
              " 'ocean': <gensim.models.keyedvectors.Vocab at 0x7f81b060ab70>,\n",
              " 'of': <gensim.models.keyedvectors.Vocab at 0x7f81b05d45c0>,\n",
              " 'off': <gensim.models.keyedvectors.Vocab at 0x7f81b05abe80>,\n",
              " 'ohio': <gensim.models.keyedvectors.Vocab at 0x7f81b060ac88>,\n",
              " 'oil': <gensim.models.keyedvectors.Vocab at 0x7f81b05f3278>,\n",
              " 'old': <gensim.models.keyedvectors.Vocab at 0x7f81b05d4ac8>,\n",
              " 'oldest': <gensim.models.keyedvectors.Vocab at 0x7f81b05d49e8>,\n",
              " 'olympic': <gensim.models.keyedvectors.Vocab at 0x7f81b05c81d0>,\n",
              " 'on': <gensim.models.keyedvectors.Vocab at 0x7f81b05c8ef0>,\n",
              " 'once': <gensim.models.keyedvectors.Vocab at 0x7f81b05f52e8>,\n",
              " 'one': <gensim.models.keyedvectors.Vocab at 0x7f81b05ab208>,\n",
              " 'only': <gensim.models.keyedvectors.Vocab at 0x7f81b05d4e80>,\n",
              " 'or': <gensim.models.keyedvectors.Vocab at 0x7f81b05c8cc0>,\n",
              " 'organization': <gensim.models.keyedvectors.Vocab at 0x7f81b05afac8>,\n",
              " 'origin': <gensim.models.keyedvectors.Vocab at 0x7f81b05c8208>,\n",
              " 'original': <gensim.models.keyedvectors.Vocab at 0x7f81b05f5da0>,\n",
              " 'other': <gensim.models.keyedvectors.Vocab at 0x7f81b060a2b0>,\n",
              " 'out': <gensim.models.keyedvectors.Vocab at 0x7f81b05c8eb8>,\n",
              " 'outside': <gensim.models.keyedvectors.Vocab at 0x7f81b05f31d0>,\n",
              " 'over': <gensim.models.keyedvectors.Vocab at 0x7f81b05c8ba8>,\n",
              " 'painted': <gensim.models.keyedvectors.Vocab at 0x7f81b05f5ef0>,\n",
              " 'painting': <gensim.models.keyedvectors.Vocab at 0x7f81b05abb70>,\n",
              " 'paper': <gensim.models.keyedvectors.Vocab at 0x7f81b05ab240>,\n",
              " 'park': <gensim.models.keyedvectors.Vocab at 0x7f81b05f3d68>,\n",
              " 'part': <gensim.models.keyedvectors.Vocab at 0x7f81b05ab668>,\n",
              " 'patent': <gensim.models.keyedvectors.Vocab at 0x7f81b05f35f8>,\n",
              " 'pellegrin': <gensim.models.keyedvectors.Vocab at 0x7f81b05af518>,\n",
              " 'people': <gensim.models.keyedvectors.Vocab at 0x7f81b05c8b00>,\n",
              " 'percentage': <gensim.models.keyedvectors.Vocab at 0x7f81b05a6f60>,\n",
              " 'person': <gensim.models.keyedvectors.Vocab at 0x7f81b05f5e10>,\n",
              " 'peter': <gensim.models.keyedvectors.Vocab at 0x7f81b060acc0>,\n",
              " 'pick': <gensim.models.keyedvectors.Vocab at 0x7f81b05fec50>,\n",
              " 'place': <gensim.models.keyedvectors.Vocab at 0x7f81b05c8940>,\n",
              " 'plant': <gensim.models.keyedvectors.Vocab at 0x7f81b05f37f0>,\n",
              " 'play': <gensim.models.keyedvectors.Vocab at 0x7f81b060a860>,\n",
              " 'played': <gensim.models.keyedvectors.Vocab at 0x7f81b05a6e48>,\n",
              " 'poem': <gensim.models.keyedvectors.Vocab at 0x7f81b05a6c88>,\n",
              " 'poet': <gensim.models.keyedvectors.Vocab at 0x7f81b060af98>,\n",
              " 'point': <gensim.models.keyedvectors.Vocab at 0x7f81b05abac8>,\n",
              " 'popular': <gensim.models.keyedvectors.Vocab at 0x7f81b05f3710>,\n",
              " 'population': <gensim.models.keyedvectors.Vocab at 0x7f81b060ac50>,\n",
              " 'portrayed': <gensim.models.keyedvectors.Vocab at 0x7f81b060af28>,\n",
              " 'power': <gensim.models.keyedvectors.Vocab at 0x7f81b05fe160>,\n",
              " 'president': <gensim.models.keyedvectors.Vocab at 0x7f81b05af208>,\n",
              " 'price': <gensim.models.keyedvectors.Vocab at 0x7f81b05fe278>,\n",
              " 'prime': <gensim.models.keyedvectors.Vocab at 0x7f81b05af128>,\n",
              " 'prince': <gensim.models.keyedvectors.Vocab at 0x7f81b05af898>,\n",
              " 'prize': <gensim.models.keyedvectors.Vocab at 0x7f81b05f5080>,\n",
              " 'procter': <gensim.models.keyedvectors.Vocab at 0x7f81b05f5b70>,\n",
              " 'produced': <gensim.models.keyedvectors.Vocab at 0x7f81b05f3fd0>,\n",
              " 'product': <gensim.models.keyedvectors.Vocab at 0x7f81b05a64e0>,\n",
              " 'profession': <gensim.models.keyedvectors.Vocab at 0x7f81b05d4a20>,\n",
              " 'prophet': <gensim.models.keyedvectors.Vocab at 0x7f81b05c8f98>,\n",
              " 'pull': <gensim.models.keyedvectors.Vocab at 0x7f81b05fe978>,\n",
              " 'queen': <gensim.models.keyedvectors.Vocab at 0x7f81b05f5f28>,\n",
              " 'rain': <gensim.models.keyedvectors.Vocab at 0x7f81b05ab550>,\n",
              " 'randy': <gensim.models.keyedvectors.Vocab at 0x7f81b060a390>,\n",
              " 'range': <gensim.models.keyedvectors.Vocab at 0x7f81b05fe518>,\n",
              " 'rascals': <gensim.models.keyedvectors.Vocab at 0x7f81b05a6860>,\n",
              " 'real': <gensim.models.keyedvectors.Vocab at 0x7f81b05d45f8>,\n",
              " 'received': <gensim.models.keyedvectors.Vocab at 0x7f81b05a67b8>,\n",
              " 'record': <gensim.models.keyedvectors.Vocab at 0x7f81b05fe898>,\n",
              " 'records': <gensim.models.keyedvectors.Vocab at 0x7f81b05f53c8>,\n",
              " 'red': <gensim.models.keyedvectors.Vocab at 0x7f81b05fe908>,\n",
              " 'religion': <gensim.models.keyedvectors.Vocab at 0x7f81b05c8860>,\n",
              " 'remove': <gensim.models.keyedvectors.Vocab at 0x7f81b060aac8>,\n",
              " 'replacement': <gensim.models.keyedvectors.Vocab at 0x7f81b05feb70>,\n",
              " 'richard': <gensim.models.keyedvectors.Vocab at 0x7f81b05f3dd8>,\n",
              " 'right': <gensim.models.keyedvectors.Vocab at 0x7f81b05f5208>,\n",
              " 'rights': <gensim.models.keyedvectors.Vocab at 0x7f81b05f3518>,\n",
              " 'river': <gensim.models.keyedvectors.Vocab at 0x7f81b05ab400>,\n",
              " 'role': <gensim.models.keyedvectors.Vocab at 0x7f81b060a9b0>,\n",
              " 'runs': <gensim.models.keyedvectors.Vocab at 0x7f81b05f3978>,\n",
              " 'russia': <gensim.models.keyedvectors.Vocab at 0x7f81b05d4390>,\n",
              " 'russian': <gensim.models.keyedvectors.Vocab at 0x7f81b05afc50>,\n",
              " 's': <gensim.models.keyedvectors.Vocab at 0x7f81b05d4908>,\n",
              " 'said': <gensim.models.keyedvectors.Vocab at 0x7f81b05af908>,\n",
              " 'san': <gensim.models.keyedvectors.Vocab at 0x7f81b05f3390>,\n",
              " 'sang': <gensim.models.keyedvectors.Vocab at 0x7f81b05f3748>,\n",
              " 'saw': <gensim.models.keyedvectors.Vocab at 0x7f81b05f5160>,\n",
              " 'say': <gensim.models.keyedvectors.Vocab at 0x7f81b05af4a8>,\n",
              " 'school': <gensim.models.keyedvectors.Vocab at 0x7f81b05f59b0>,\n",
              " 'sea': <gensim.models.keyedvectors.Vocab at 0x7f81b060a710>,\n",
              " 'second': <gensim.models.keyedvectors.Vocab at 0x7f81b05c8240>,\n",
              " 'secretary': <gensim.models.keyedvectors.Vocab at 0x7f81b05f3940>,\n",
              " 'security': <gensim.models.keyedvectors.Vocab at 0x7f81b060a630>,\n",
              " 'see': <gensim.models.keyedvectors.Vocab at 0x7f81b05f3cc0>,\n",
              " 'series': <gensim.models.keyedvectors.Vocab at 0x7f81b05abef0>,\n",
              " 'serve': <gensim.models.keyedvectors.Vocab at 0x7f81b05f5400>,\n",
              " 'served': <gensim.models.keyedvectors.Vocab at 0x7f81b05f56a0>,\n",
              " 'seven': <gensim.models.keyedvectors.Vocab at 0x7f81b05fe470>,\n",
              " 'shakespeare': <gensim.models.keyedvectors.Vocab at 0x7f81b05f50f0>,\n",
              " 'she': <gensim.models.keyedvectors.Vocab at 0x7f81b05fe128>,\n",
              " 'ship': <gensim.models.keyedvectors.Vocab at 0x7f81b05afb38>,\n",
              " 'shot': <gensim.models.keyedvectors.Vocab at 0x7f81b05f34a8>,\n",
              " 'should': <gensim.models.keyedvectors.Vocab at 0x7f81b05a6240>,\n",
              " 'show': <gensim.models.keyedvectors.Vocab at 0x7f81b05af358>,\n",
              " 'singing': <gensim.models.keyedvectors.Vocab at 0x7f81b05ab518>,\n",
              " 'sings': <gensim.models.keyedvectors.Vocab at 0x7f81b05af278>,\n",
              " 'sink': <gensim.models.keyedvectors.Vocab at 0x7f81b060ab38>,\n",
              " 'six': <gensim.models.keyedvectors.Vocab at 0x7f81b05c8be0>,\n",
              " 'size': <gensim.models.keyedvectors.Vocab at 0x7f81b060a438>,\n",
              " 'social': <gensim.models.keyedvectors.Vocab at 0x7f81b060a5f8>,\n",
              " 'society': <gensim.models.keyedvectors.Vocab at 0x7f81b05fe6d8>,\n",
              " 'soft': <gensim.models.keyedvectors.Vocab at 0x7f81b05f3668>,\n",
              " 'sold': <gensim.models.keyedvectors.Vocab at 0x7f81b05fe2e8>,\n",
              " 'soldiers': <gensim.models.keyedvectors.Vocab at 0x7f81b05f57f0>,\n",
              " 'some': <gensim.models.keyedvectors.Vocab at 0x7f81b05af470>,\n",
              " 'sometimes': <gensim.models.keyedvectors.Vocab at 0x7f81b05c8978>,\n",
              " 'song': <gensim.models.keyedvectors.Vocab at 0x7f81b05a60b8>,\n",
              " 'songs': <gensim.models.keyedvectors.Vocab at 0x7f81b05f3f98>,\n",
              " 'south': <gensim.models.keyedvectors.Vocab at 0x7f81b05a6b00>,\n",
              " 'soviet': <gensim.models.keyedvectors.Vocab at 0x7f81b05f5320>,\n",
              " 'space': <gensim.models.keyedvectors.Vocab at 0x7f81b05a6ac8>,\n",
              " 'spanish': <gensim.models.keyedvectors.Vocab at 0x7f81b05f3080>,\n",
              " 'species': <gensim.models.keyedvectors.Vocab at 0x7f81b05ab780>,\n",
              " 'speed': <gensim.models.keyedvectors.Vocab at 0x7f81b060aef0>,\n",
              " 'spoken': <gensim.models.keyedvectors.Vocab at 0x7f81b05f5f60>,\n",
              " 'sport': <gensim.models.keyedvectors.Vocab at 0x7f81b05f5be0>,\n",
              " 'sports': <gensim.models.keyedvectors.Vocab at 0x7f81b05a69e8>,\n",
              " 'spumante': <gensim.models.keyedvectors.Vocab at 0x7f81b05a6908>,\n",
              " 'spy': <gensim.models.keyedvectors.Vocab at 0x7f81b060a550>,\n",
              " 'st': <gensim.models.keyedvectors.Vocab at 0x7f81b05d4940>,\n",
              " 'stand': <gensim.models.keyedvectors.Vocab at 0x7f81b05c84e0>,\n",
              " 'standard': <gensim.models.keyedvectors.Vocab at 0x7f81b05a6a20>,\n",
              " 'star': <gensim.models.keyedvectors.Vocab at 0x7f81b05c8cf8>,\n",
              " 'starred': <gensim.models.keyedvectors.Vocab at 0x7f81b05ab4e0>,\n",
              " 'starring': <gensim.models.keyedvectors.Vocab at 0x7f81b05a65f8>,\n",
              " 'stars': <gensim.models.keyedvectors.Vocab at 0x7f81b05f3b70>,\n",
              " 'start': <gensim.models.keyedvectors.Vocab at 0x7f81b05af7f0>,\n",
              " 'state': <gensim.models.keyedvectors.Vocab at 0x7f81b05d4dd8>,\n",
              " 'states': <gensim.models.keyedvectors.Vocab at 0x7f81b05c8358>,\n",
              " 'steel': <gensim.models.keyedvectors.Vocab at 0x7f81b05affd0>,\n",
              " 'steven': <gensim.models.keyedvectors.Vocab at 0x7f81b05f32b0>,\n",
              " 'stock': <gensim.models.keyedvectors.Vocab at 0x7f81b05f3a58>,\n",
              " 'stole': <gensim.models.keyedvectors.Vocab at 0x7f81b05d47b8>,\n",
              " 'stop': <gensim.models.keyedvectors.Vocab at 0x7f81b05f5240>,\n",
              " 'stove': <gensim.models.keyedvectors.Vocab at 0x7f81b05fe710>,\n",
              " 'street': <gensim.models.keyedvectors.Vocab at 0x7f81b05af780>,\n",
              " 'sun': <gensim.models.keyedvectors.Vocab at 0x7f81b05a6fd0>,\n",
              " 'super': <gensim.models.keyedvectors.Vocab at 0x7f81b05c86d8>,\n",
              " 'swimming': <gensim.models.keyedvectors.Vocab at 0x7f81b05afdd8>,\n",
              " 'symbol': <gensim.models.keyedvectors.Vocab at 0x7f81b05a62e8>,\n",
              " 'system': <gensim.models.keyedvectors.Vocab at 0x7f81b05c8710>,\n",
              " 't': <gensim.models.keyedvectors.Vocab at 0x7f81b05a6ba8>,\n",
              " 'take': <gensim.models.keyedvectors.Vocab at 0x7f81b05c8908>,\n",
              " 'tallest': <gensim.models.keyedvectors.Vocab at 0x7f81b05afd68>,\n",
              " 'team': <gensim.models.keyedvectors.Vocab at 0x7f81b05d4898>,\n",
              " 'telephone': <gensim.models.keyedvectors.Vocab at 0x7f81b05f5e48>,\n",
              " 'television': <gensim.models.keyedvectors.Vocab at 0x7f81b05f5780>,\n",
              " 'term': <gensim.models.keyedvectors.Vocab at 0x7f81b05c8fd0>,\n",
              " 'th': <gensim.models.keyedvectors.Vocab at 0x7f81b05ab5c0>,\n",
              " 'than': <gensim.models.keyedvectors.Vocab at 0x7f81b05f3198>,\n",
              " 'that': <gensim.models.keyedvectors.Vocab at 0x7f81b05c8630>,\n",
              " 'thatcher': <gensim.models.keyedvectors.Vocab at 0x7f81b05af0f0>,\n",
              " 'the': <gensim.models.keyedvectors.Vocab at 0x7f81b05d4438>,\n",
              " 'their': <gensim.models.keyedvectors.Vocab at 0x7f81b05a62b0>,\n",
              " 'them': <gensim.models.keyedvectors.Vocab at 0x7f81b05f5278>,\n",
              " 'there': <gensim.models.keyedvectors.Vocab at 0x7f81b05c8780>,\n",
              " 'these': <gensim.models.keyedvectors.Vocab at 0x7f81b05f3e10>,\n",
              " 'they': <gensim.models.keyedvectors.Vocab at 0x7f81b05c8c88>,\n",
              " 'this': <gensim.models.keyedvectors.Vocab at 0x7f81b05f3048>,\n",
              " 'three': <gensim.models.keyedvectors.Vocab at 0x7f81b05af630>,\n",
              " 'time': <gensim.models.keyedvectors.Vocab at 0x7f81b05a6c50>,\n",
              " 'times': <gensim.models.keyedvectors.Vocab at 0x7f81b05f3240>,\n",
              " 'title': <gensim.models.keyedvectors.Vocab at 0x7f81b05f3eb8>,\n",
              " 'titled': <gensim.models.keyedvectors.Vocab at 0x7f81b05f5d30>,\n",
              " 'to': <gensim.models.keyedvectors.Vocab at 0x7f81b05d4ef0>,\n",
              " 'took': <gensim.models.keyedvectors.Vocab at 0x7f81b05fe668>,\n",
              " 'top': <gensim.models.keyedvectors.Vocab at 0x7f81b060a6d8>,\n",
              " 'tour': <gensim.models.keyedvectors.Vocab at 0x7f81b05f50b8>,\n",
              " 'travel': <gensim.models.keyedvectors.Vocab at 0x7f81b05d4c50>,\n",
              " 'turn': <gensim.models.keyedvectors.Vocab at 0x7f81b060a898>,\n",
              " 'turned': <gensim.models.keyedvectors.Vocab at 0x7f81b05f3860>,\n",
              " 'tv': <gensim.models.keyedvectors.Vocab at 0x7f81b05f52b0>,\n",
              " 'two': <gensim.models.keyedvectors.Vocab at 0x7f81b05c8438>,\n",
              " 'type': <gensim.models.keyedvectors.Vocab at 0x7f81b05f30b8>,\n",
              " 'types': <gensim.models.keyedvectors.Vocab at 0x7f81b05f5710>,\n",
              " 'u': <gensim.models.keyedvectors.Vocab at 0x7f81b05d4da0>,\n",
              " 'under': <gensim.models.keyedvectors.Vocab at 0x7f81b05ab128>,\n",
              " 'union': <gensim.models.keyedvectors.Vocab at 0x7f81b060ae80>,\n",
              " 'united': <gensim.models.keyedvectors.Vocab at 0x7f81b05c8320>,\n",
              " 'university': <gensim.models.keyedvectors.Vocab at 0x7f81b05af710>,\n",
              " 'up': <gensim.models.keyedvectors.Vocab at 0x7f81b05c8588>,\n",
              " 'us': <gensim.models.keyedvectors.Vocab at 0x7f81b060a940>,\n",
              " 'use': <gensim.models.keyedvectors.Vocab at 0x7f81b05a6278>,\n",
              " 'used': <gensim.models.keyedvectors.Vocab at 0x7f81b05c8278>,\n",
              " 'v': <gensim.models.keyedvectors.Vocab at 0x7f81b05af320>,\n",
              " 'video': <gensim.models.keyedvectors.Vocab at 0x7f81b05c8668>,\n",
              " 'vietnam': <gensim.models.keyedvectors.Vocab at 0x7f81b05f5828>,\n",
              " 'w': <gensim.models.keyedvectors.Vocab at 0x7f81b05abb38>,\n",
              " 'wall': <gensim.models.keyedvectors.Vocab at 0x7f81b05af748>,\n",
              " 'war': <gensim.models.keyedvectors.Vocab at 0x7f81b05a6d68>,\n",
              " 'was': <gensim.models.keyedvectors.Vocab at 0x7f81b05d4b70>,\n",
              " 'washer': <gensim.models.keyedvectors.Vocab at 0x7f81b05fea58>,\n",
              " 'washington': <gensim.models.keyedvectors.Vocab at 0x7f81b05afe80>,\n",
              " 'water': <gensim.models.keyedvectors.Vocab at 0x7f81b05ab3c8>,\n",
              " 'way': <gensim.models.keyedvectors.Vocab at 0x7f81b05a6940>,\n",
              " 'we': <gensim.models.keyedvectors.Vocab at 0x7f81b05f5198>,\n",
              " 'web': <gensim.models.keyedvectors.Vocab at 0x7f81b05af828>,\n",
              " 'were': <gensim.models.keyedvectors.Vocab at 0x7f81b05d4fd0>,\n",
              " 'west': <gensim.models.keyedvectors.Vocab at 0x7f81b05d4b00>,\n",
              " 'what': <gensim.models.keyedvectors.Vocab at 0x7f81b05d43c8>,\n",
              " 'when': <gensim.models.keyedvectors.Vocab at 0x7f81b05d4b38>,\n",
              " 'where': <gensim.models.keyedvectors.Vocab at 0x7f81b05c88d0>,\n",
              " 'which': <gensim.models.keyedvectors.Vocab at 0x7f81b05c8400>,\n",
              " 'white': <gensim.models.keyedvectors.Vocab at 0x7f81b05ab7f0>,\n",
              " 'who': <gensim.models.keyedvectors.Vocab at 0x7f81b05d4c88>,\n",
              " 'whom': <gensim.models.keyedvectors.Vocab at 0x7f81b05f3ba8>,\n",
              " 'whose': <gensim.models.keyedvectors.Vocab at 0x7f81b05f3438>,\n",
              " 'why': <gensim.models.keyedvectors.Vocab at 0x7f81b05d4be0>,\n",
              " 'will': <gensim.models.keyedvectors.Vocab at 0x7f81b05afa90>,\n",
              " 'william': <gensim.models.keyedvectors.Vocab at 0x7f81b05f5c18>,\n",
              " 'win': <gensim.models.keyedvectors.Vocab at 0x7f81b060afd0>,\n",
              " 'wine': <gensim.models.keyedvectors.Vocab at 0x7f81b05f39b0>,\n",
              " 'with': <gensim.models.keyedvectors.Vocab at 0x7f81b05d4f60>,\n",
              " 'without': <gensim.models.keyedvectors.Vocab at 0x7f81b05fe080>,\n",
              " 'woman': <gensim.models.keyedvectors.Vocab at 0x7f81b060ad68>,\n",
              " 'women': <gensim.models.keyedvectors.Vocab at 0x7f81b05f5860>,\n",
              " 'won': <gensim.models.keyedvectors.Vocab at 0x7f81b060a8d0>,\n",
              " 'word': <gensim.models.keyedvectors.Vocab at 0x7f81b05abc50>,\n",
              " 'work': <gensim.models.keyedvectors.Vocab at 0x7f81b05abe10>,\n",
              " 'world': <gensim.models.keyedvectors.Vocab at 0x7f81b05c8b38>,\n",
              " 'would': <gensim.models.keyedvectors.Vocab at 0x7f81b05ab1d0>,\n",
              " 'write': <gensim.models.keyedvectors.Vocab at 0x7f81b05c8dd8>,\n",
              " 'wrote': <gensim.models.keyedvectors.Vocab at 0x7f81b05afef0>,\n",
              " 'www': <gensim.models.keyedvectors.Vocab at 0x7f81b05f5cc0>,\n",
              " 'year': <gensim.models.keyedvectors.Vocab at 0x7f81b05d46a0>,\n",
              " 'years': <gensim.models.keyedvectors.Vocab at 0x7f81b05a67f0>,\n",
              " 'yellow': <gensim.models.keyedvectors.Vocab at 0x7f81b05f5550>,\n",
              " 'york': <gensim.models.keyedvectors.Vocab at 0x7f81b05f3c50>,\n",
              " 'you': <gensim.models.keyedvectors.Vocab at 0x7f81b05c8e80>,\n",
              " 'your': <gensim.models.keyedvectors.Vocab at 0x7f81b05a6358>}"
            ]
          },
          "metadata": {
            "tags": []
          },
          "execution_count": 990
        }
      ]
    },
    {
      "metadata": {
        "id": "CVJz-v7idTym",
        "colab_type": "text"
      },
      "cell_type": "markdown",
      "source": [
        "Get an embedding for a word"
      ]
    },
    {
      "metadata": {
        "id": "ooDo34JFeIlY",
        "colab_type": "code",
        "colab": {
          "base_uri": "https://localhost:8080/",
          "height": 210
        },
        "outputId": "cbb017cd-3c9e-4c26-f6d6-912477e1c49b"
      },
      "cell_type": "code",
      "source": [
        "model.wv['who']"
      ],
      "execution_count": 991,
      "outputs": [
        {
          "output_type": "execute_result",
          "data": {
            "text/plain": [
              "array([ 0.17393889,  0.0788199 , -0.3677306 ,  0.61115015,  0.67875206,\n",
              "        0.02729714, -0.25921696, -0.14539659,  0.30043313,  0.42497548,\n",
              "       -0.34613478,  0.43910974,  0.22716029, -0.47182712, -0.1194673 ,\n",
              "       -0.1190585 ,  0.18031687,  0.07993813, -0.31380054, -0.16885352,\n",
              "       -0.7373604 , -0.10150864,  0.12240679,  0.27477455, -0.03392056,\n",
              "        0.19255532,  0.4028848 , -0.17500515, -0.21162508, -0.29269925,\n",
              "        0.21099329,  0.60459834,  0.18188244,  0.13941582, -0.4705176 ,\n",
              "        0.24291776, -0.29422086,  0.17454384, -0.38761583, -0.9329524 ,\n",
              "        0.26916343, -0.06634206, -0.08006347,  0.40433732, -0.07506761,\n",
              "       -0.22201298,  0.39587796,  0.55937016, -0.42336994,  0.23442756],\n",
              "      dtype=float32)"
            ]
          },
          "metadata": {
            "tags": []
          },
          "execution_count": 991
        }
      ]
    },
    {
      "metadata": {
        "id": "2UWD-zq1eOM4",
        "colab_type": "text"
      },
      "cell_type": "markdown",
      "source": [
        "\n",
        "Saving the model"
      ]
    },
    {
      "metadata": {
        "id": "VWhwwTykeQF3",
        "colab_type": "code",
        "colab": {}
      },
      "cell_type": "code",
      "source": [
        "model.save('word2vec-question-50')"
      ],
      "execution_count": 0,
      "outputs": []
    },
    {
      "metadata": {
        "id": "jVvT8vgAebjo",
        "colab_type": "text"
      },
      "cell_type": "markdown",
      "source": [
        "Finding Words which have similar meaning"
      ]
    },
    {
      "metadata": {
        "id": "AeUH1VfVe1Oc",
        "colab_type": "code",
        "colab": {
          "base_uri": "https://localhost:8080/",
          "height": 248
        },
        "outputId": "eb16800c-faa5-4365-c5b9-ca86abeea632"
      },
      "cell_type": "code",
      "source": [
        "model.wv.most_similar('your')"
      ],
      "execution_count": 993,
      "outputs": [
        {
          "output_type": "stream",
          "text": [
            "/usr/local/lib/python3.6/dist-packages/gensim/matutils.py:737: FutureWarning: Conversion of the second argument of issubdtype from `int` to `np.signedinteger` is deprecated. In future, it will be treated as `np.int64 == np.dtype(int).type`.\n",
            "  if np.issubdtype(vec.dtype, np.int):\n"
          ],
          "name": "stderr"
        },
        {
          "output_type": "execute_result",
          "data": {
            "text/plain": [
              "[('a', 0.999478816986084),\n",
              " ('have', 0.9994713068008423),\n",
              " ('to', 0.9994654655456543),\n",
              " ('with', 0.9994490146636963),\n",
              " ('for', 0.9994267225265503),\n",
              " ('me', 0.9994257688522339),\n",
              " ('that', 0.9994202852249146),\n",
              " ('called', 0.9994165897369385),\n",
              " ('has', 0.999410092830658),\n",
              " ('this', 0.999403715133667)]"
            ]
          },
          "metadata": {
            "tags": []
          },
          "execution_count": 993
        }
      ]
    },
    {
      "metadata": {
        "id": "6JvYhk7V2vzH",
        "colab_type": "code",
        "colab": {
          "base_uri": "https://localhost:8080/",
          "height": 70
        },
        "outputId": "472b6364-589a-41cd-9afc-c296daec7938"
      },
      "cell_type": "code",
      "source": [
        "\n",
        "\n",
        "#['who','when','what','affirmation','unknown'])\n",
        "\n",
        "from sklearn import preprocessing\n",
        "from keras.utils.np_utils import to_categorical\n",
        "le = preprocessing.LabelEncoder()\n",
        "Y=le.fit_transform(df['type'])\n",
        "print(list(le.classes_))\n",
        "print(a)\n",
        "labels=to_categorical(np.asarray(Y))\n",
        "labels.shape\n",
        "\n",
        "\n",
        "\n",
        "#labels= pd.DataFrame(data=a, columns=[\"labels\"])\n",
        "#df = pd.concat([df,labels],axis=1)\n",
        "\n",
        "#df.drop('type',axis=1,inplace=True)\n",
        "#print(df.head())\n",
        "#Y=df['labels']\n",
        "#Y.shape"
      ],
      "execution_count": 994,
      "outputs": [
        {
          "output_type": "stream",
          "text": [
            "['affirmation', 'unknown', 'what', 'when', 'who']\n",
            "[3 4 3 ... 2 2 2]\n"
          ],
          "name": "stdout"
        },
        {
          "output_type": "execute_result",
          "data": {
            "text/plain": [
              "(1483, 5)"
            ]
          },
          "metadata": {
            "tags": []
          },
          "execution_count": 994
        }
      ]
    },
    {
      "metadata": {
        "id": "EeMGoNXt3yDg",
        "colab_type": "text"
      },
      "cell_type": "markdown",
      "source": [
        "Split Data into Training and Test Data"
      ]
    },
    {
      "metadata": {
        "id": "pZ7EYxCW3xQm",
        "colab_type": "code",
        "colab": {}
      },
      "cell_type": "code",
      "source": [
        "X_train, X_test, y_train, y_test = train_test_split(\n",
        "    df['clean_Question'],\n",
        "    labels,\n",
        "    test_size=0.2, \n",
        "    random_state=42\n",
        ")"
      ],
      "execution_count": 0,
      "outputs": []
    },
    {
      "metadata": {
        "id": "_YI1xQV54OHM",
        "colab_type": "text"
      },
      "cell_type": "markdown",
      "source": [
        "**Build the Tokenizer**"
      ]
    },
    {
      "metadata": {
        "id": "qBFFQxM-4SS_",
        "colab_type": "code",
        "colab": {}
      },
      "cell_type": "code",
      "source": [
        "from tensorflow.python.keras.preprocessing.text import Tokenizer"
      ],
      "execution_count": 0,
      "outputs": []
    },
    {
      "metadata": {
        "id": "tHWHVMju4Y6u",
        "colab_type": "code",
        "colab": {}
      },
      "cell_type": "code",
      "source": [
        "top_words = 100"
      ],
      "execution_count": 0,
      "outputs": []
    },
    {
      "metadata": {
        "id": "wVwYpGPU4o0-",
        "colab_type": "code",
        "colab": {}
      },
      "cell_type": "code",
      "source": [
        "t = Tokenizer(num_words=top_words) # num_words -> Vocablury size"
      ],
      "execution_count": 0,
      "outputs": []
    },
    {
      "metadata": {
        "id": "UameAWkF4pge",
        "colab_type": "code",
        "colab": {}
      },
      "cell_type": "code",
      "source": [
        "t.fit_on_texts(X_train.tolist())"
      ],
      "execution_count": 0,
      "outputs": []
    },
    {
      "metadata": {
        "id": "DxcZMRdv5tHk",
        "colab_type": "text"
      },
      "cell_type": "markdown",
      "source": [
        "Prepare Training and Test Data"
      ]
    },
    {
      "metadata": {
        "id": "fCH7044_53bH",
        "colab_type": "text"
      },
      "cell_type": "markdown",
      "source": [
        "Get the word index for each of the word in the question"
      ]
    },
    {
      "metadata": {
        "id": "_ylh5wwM5-BN",
        "colab_type": "code",
        "colab": {}
      },
      "cell_type": "code",
      "source": [
        "X_train = t.texts_to_sequences(X_train.tolist())\n",
        "X_test = t.texts_to_sequences(X_test.tolist())"
      ],
      "execution_count": 0,
      "outputs": []
    },
    {
      "metadata": {
        "id": "26SCHCDL6N5r",
        "colab_type": "text"
      },
      "cell_type": "markdown",
      "source": [
        "How many words in each question?"
      ]
    },
    {
      "metadata": {
        "id": "089tuYEp6bn5",
        "colab_type": "text"
      },
      "cell_type": "markdown",
      "source": [
        "Pad Sequences "
      ]
    },
    {
      "metadata": {
        "id": "d9vccS1nseAX",
        "colab_type": "code",
        "colab": {
          "base_uri": "https://localhost:8080/",
          "height": 1126
        },
        "outputId": "8e4e308a-b07e-46ef-97bf-8ef0f936b16e"
      },
      "cell_type": "code",
      "source": [
        "df['word_count'] = df['clean_Question'].apply(lambda x: len(str(x).split(\" \")))\n",
        "df[['clean_Question','word_count']].head()\n",
        "df.groupby(['clean_Question'])['word_count'].max()"
      ],
      "execution_count": 1001,
      "outputs": [
        {
          "output_type": "execute_result",
          "data": {
            "text/plain": [
              "clean_Question\n",
              "are the last two numbers the gal                                                                                      7\n",
              "are the lights dimmable                                                                                               4\n",
              "are there six filters for the price shown                                                                             8\n",
              "are these drip pans dishwasher safe                                                                                   6\n",
              "are these lead free                                                                                                   4\n",
              "are they made in the usa                                                                                              6\n",
              "can an extended warranty be purchased for this product                                                                9\n",
              "can i get it in india                                                                                                 6\n",
              "can i install on wall                                                                                                 5\n",
              "can i just throw them in trash                                                                                        7\n",
              "can it be cut to fit                                                                                                  6\n",
              "can it be installed with a copper sink                                                                                8\n",
              "can it be removed                                                                                                     4\n",
              "can it be settled on a bathtub                                                                                        7\n",
              "can it be used for a gas drier                                                                                        8\n",
              "can it be wall mounted                                                                                                5\n",
              "can more than one water source be tested                                                                              8\n",
              "can show temperature in celsius degrees                                                                               6\n",
              "can the cooking grate be removed from the ring                                                                        9\n",
              "can these be recycled some way                                                                                        6\n",
              "can these be used for gas stove burner                                                                                8\n",
              "can this be used on gas stove when making polenta which needs low heat                                               14\n",
              "can this filter be used under a sink                                                                                  8\n",
              "can this filter remove all mold spores                                                                                7\n",
              "can this model cubic handle a king size sheet set                                                                    10\n",
              "can this tank be used for black water                                                                                 8\n",
              "can you bake corn bread on this without it burnding                                                                  10\n",
              "can you use on a airplane                                                                                             6\n",
              "can you verify the dimensions for me                                                                                  7\n",
              "cnn began broadcasting in what year                                                                                   6\n",
              "                                                                                                                     ..\n",
              "why are the ears your center of balance                                                                               8\n",
              "why did several san diego schools stop serving apples to students                                                    11\n",
              "why did the chicken cross the road                                                                                    7\n",
              "why did the world enter a global depression in                                                                        9\n",
              "why do heavier objects travel downhill faster                                                                         7\n",
              "why do horseshoes bring luck                                                                                          5\n",
              "why do n t you guys have some sort of contest where you ask a question and whoever finds the answers wins a prize    24\n",
              "why do people get calluses                                                                                            5\n",
              "why do some clothing labels say use a nonchlorine bleach                                                             10\n",
              "why doesn t www answers com have any answers to my questions                                                         12\n",
              "why is black the color of mourning in the west                                                                       10\n",
              "why is poop sometimes different colors                                                                                6\n",
              "why is the grass green                                                                                                5\n",
              "why was the l a office of shea and gould closed                                                                      11\n",
              "why were people recruited for the vietnam war                                                                         8\n",
              "why were the american soldiers in wwi called doughboys                                                                9\n",
              "will it fit a ft ceiling                                                                                              6\n",
              "will it work with gfe hmdaes                                                                                          6\n",
              "will the ltf lint dryer kit work on a gas dryer                                                                      11\n",
              "will these range replacement knobs fit a tappan electric stove                                                       10\n",
              "will this fit thermador oem bosch older cooktop                                                                       8\n",
              "will this keep pour over coffee carafe contents warmed atop a gas range flame                                        14\n",
              "will this one work to replace the badger hp                                                                           9\n",
              "will this work on astro turf to pick up small bugs and leaves                                                        13\n",
              "will this work on my astro turf sun deck for picking up bugs and leaves                                              15\n",
              "will this work to connect a wgd sq to a wfw ww washer                                                                13\n",
              "woodrow wilson served as president of what university                                                                 8\n",
              "would this pick up pine needles on a lawn                                                                             9\n",
              "would this work on a ford edge with a naked roof                                                                     11\n",
              "would this work with the whirlpool duet sports front load washer and dryers                                          13\n",
              "Name: word_count, Length: 1476, dtype: int64"
            ]
          },
          "metadata": {
            "tags": []
          },
          "execution_count": 1001
        }
      ]
    },
    {
      "metadata": {
        "id": "HyDCoaZD6mag",
        "colab_type": "code",
        "colab": {}
      },
      "cell_type": "code",
      "source": [
        "from tensorflow.python.keras.preprocessing import sequence\n",
        "max_question_length = 30\n",
        "X_train = sequence.pad_sequences(X_train,maxlen=max_question_length, padding='post')\n",
        "X_test = sequence.pad_sequences(X_test, maxlen=max_question_length, padding='post')\n"
      ],
      "execution_count": 0,
      "outputs": []
    },
    {
      "metadata": {
        "id": "Sj-GBuJJ6L51",
        "colab_type": "text"
      },
      "cell_type": "markdown",
      "source": [
        "Build Embedding Matrix from Pre-Trained Word2Vec"
      ]
    },
    {
      "metadata": {
        "id": "Ow4VuUkw6G18",
        "colab_type": "text"
      },
      "cell_type": "markdown",
      "source": [
        "Load pre-trained Gensim Embeddings"
      ]
    },
    {
      "metadata": {
        "id": "5JsFusvYYULY",
        "colab_type": "code",
        "colab": {}
      },
      "cell_type": "code",
      "source": [
        "word2vec = gensim.models.Word2Vec.load('word2vec-question-50')"
      ],
      "execution_count": 0,
      "outputs": []
    },
    {
      "metadata": {
        "id": "NLwtW1dxl59E",
        "colab_type": "text"
      },
      "cell_type": "markdown",
      "source": [
        "Embedding Size"
      ]
    },
    {
      "metadata": {
        "id": "JEl54Cbkmk9Q",
        "colab_type": "code",
        "colab": {
          "base_uri": "https://localhost:8080/",
          "height": 72
        },
        "outputId": "e4f8fd07-ffa4-4636-e729-ad23836841b9"
      },
      "cell_type": "code",
      "source": [
        "embedding_vector_length = word2vec.wv.syn0.shape[1]"
      ],
      "execution_count": 1004,
      "outputs": [
        {
          "output_type": "stream",
          "text": [
            "/usr/local/lib/python3.6/dist-packages/ipykernel_launcher.py:1: DeprecationWarning: Call to deprecated `syn0` (Attribute will be removed in 4.0.0, use self.wv.vectors instead).\n",
            "  \"\"\"Entry point for launching an IPython kernel.\n"
          ],
          "name": "stderr"
        }
      ]
    },
    {
      "metadata": {
        "id": "tPZnVpkumqzt",
        "colab_type": "text"
      },
      "cell_type": "markdown",
      "source": [
        "Build matrix for current data"
      ]
    },
    {
      "metadata": {
        "id": "GRkb4aBzmo9h",
        "colab_type": "code",
        "colab": {}
      },
      "cell_type": "code",
      "source": [
        "embedding_matrix = np.zeros((top_words + 1, embedding_vector_length))"
      ],
      "execution_count": 0,
      "outputs": []
    },
    {
      "metadata": {
        "id": "Kq63WyB1mwDK",
        "colab_type": "code",
        "colab": {}
      },
      "cell_type": "code",
      "source": [
        "for word, i in sorted(t.word_index.items(),key=lambda x:x[1]):\n",
        "    if i > top_words:\n",
        "        break\n",
        "    if word in word2vec.wv.vocab:\n",
        "        embedding_vector = word2vec.wv[word]\n",
        "        embedding_matrix[i] = embedding_vector"
      ],
      "execution_count": 0,
      "outputs": []
    },
    {
      "metadata": {
        "id": "W9NfCXtsm86i",
        "colab_type": "text"
      },
      "cell_type": "markdown",
      "source": [
        "Build the Graph"
      ]
    },
    {
      "metadata": {
        "id": "PX0LT8-Wmx0M",
        "colab_type": "code",
        "colab": {}
      },
      "cell_type": "code",
      "source": [
        "from tensorflow.python.keras.models import Sequential"
      ],
      "execution_count": 0,
      "outputs": []
    },
    {
      "metadata": {
        "id": "aEDa-4Y9nBDo",
        "colab_type": "code",
        "colab": {}
      },
      "cell_type": "code",
      "source": [
        "from tensorflow.python.keras.layers import Dropout, Dense, Embedding, Flatten, LSTM"
      ],
      "execution_count": 0,
      "outputs": []
    },
    {
      "metadata": {
        "id": "YCRTQS1InDbd",
        "colab_type": "code",
        "colab": {}
      },
      "cell_type": "code",
      "source": [
        "model = Sequential()"
      ],
      "execution_count": 0,
      "outputs": []
    },
    {
      "metadata": {
        "id": "9snG8T0JnGGq",
        "colab_type": "text"
      },
      "cell_type": "markdown",
      "source": [
        "Add Embedding layer\n",
        "\n"
      ]
    },
    {
      "metadata": {
        "id": "srtb59TqnEzM",
        "colab_type": "code",
        "colab": {}
      },
      "cell_type": "code",
      "source": [
        "model.add(Embedding(top_words + 1,\n",
        "                    embedding_vector_length,\n",
        "                    input_length=max_question_length,\n",
        "                   weights=[embedding_matrix],\n",
        "                   trainable=False)\n",
        "         )"
      ],
      "execution_count": 0,
      "outputs": []
    },
    {
      "metadata": {
        "id": "zgGIdo9fvfhh",
        "colab_type": "text"
      },
      "cell_type": "markdown",
      "source": [
        "Add Layer with 100 LSTM Memory Units"
      ]
    },
    {
      "metadata": {
        "id": "h7Ty_2-NnM0b",
        "colab_type": "code",
        "colab": {
          "base_uri": "https://localhost:8080/",
          "height": 263
        },
        "outputId": "67c25cd2-8693-4a4e-fc9c-589e5a67b1e1"
      },
      "cell_type": "code",
      "source": [
        "model.add(LSTM(100, dropout=0.2, recurrent_dropout=0.2))\n",
        "model.add(Dense(5,activation='softmax'))\n",
        "model.compile(optimizer='adam',loss='categorical_crossentropy',metrics=['accuracy'])\n",
        "print(model.summary())"
      ],
      "execution_count": 1011,
      "outputs": [
        {
          "output_type": "stream",
          "text": [
            "_________________________________________________________________\n",
            "Layer (type)                 Output Shape              Param #   \n",
            "=================================================================\n",
            "embedding_25 (Embedding)     (None, 30, 50)            5050      \n",
            "_________________________________________________________________\n",
            "lstm_31 (LSTM)               (None, 100)               60400     \n",
            "_________________________________________________________________\n",
            "dense_22 (Dense)             (None, 5)                 505       \n",
            "=================================================================\n",
            "Total params: 65,955\n",
            "Trainable params: 60,905\n",
            "Non-trainable params: 5,050\n",
            "_________________________________________________________________\n",
            "None\n"
          ],
          "name": "stdout"
        }
      ]
    },
    {
      "metadata": {
        "id": "XGBiLd8NwnPq",
        "colab_type": "text"
      },
      "cell_type": "markdown",
      "source": [
        "Execute the graph"
      ]
    },
    {
      "metadata": {
        "id": "6wh1iKc_wn3X",
        "colab_type": "code",
        "colab": {
          "base_uri": "https://localhost:8080/",
          "height": 756
        },
        "outputId": "61f15fbd-22b8-49d1-c8a9-b71cce3b463e"
      },
      "cell_type": "code",
      "source": [
        "model.fit(X_train,y_train,\n",
        "          epochs=20,\n",
        "          batch_size=128,          \n",
        "          validation_data=(X_test, y_test),\n",
        "         )"
      ],
      "execution_count": 1012,
      "outputs": [
        {
          "output_type": "stream",
          "text": [
            "Train on 1186 samples, validate on 297 samples\n",
            "Epoch 1/20\n",
            "1186/1186 [==============================] - 4s 3ms/sample - loss: 1.5810 - acc: 0.3853 - val_loss: 1.4633 - val_acc: 0.3906\n",
            "Epoch 2/20\n",
            "1186/1186 [==============================] - 1s 1ms/sample - loss: 1.4116 - acc: 0.4157 - val_loss: 1.3999 - val_acc: 0.3906\n",
            "Epoch 3/20\n",
            "1186/1186 [==============================] - 1s 1ms/sample - loss: 1.3988 - acc: 0.4157 - val_loss: 1.4024 - val_acc: 0.3906\n",
            "Epoch 4/20\n",
            "1186/1186 [==============================] - 1s 1ms/sample - loss: 1.3984 - acc: 0.4157 - val_loss: 1.3947 - val_acc: 0.3906\n",
            "Epoch 5/20\n",
            "1186/1186 [==============================] - 1s 1ms/sample - loss: 1.3923 - acc: 0.4157 - val_loss: 1.3936 - val_acc: 0.3906\n",
            "Epoch 6/20\n",
            "1186/1186 [==============================] - 1s 1ms/sample - loss: 1.3915 - acc: 0.4157 - val_loss: 1.3940 - val_acc: 0.3906\n",
            "Epoch 7/20\n",
            "1186/1186 [==============================] - 1s 1ms/sample - loss: 1.3916 - acc: 0.4157 - val_loss: 1.3904 - val_acc: 0.3906\n",
            "Epoch 8/20\n",
            "1186/1186 [==============================] - 1s 1ms/sample - loss: 1.3826 - acc: 0.4157 - val_loss: 1.3952 - val_acc: 0.3906\n",
            "Epoch 9/20\n",
            "1186/1186 [==============================] - 1s 1ms/sample - loss: 1.3859 - acc: 0.4157 - val_loss: 1.3909 - val_acc: 0.3906\n",
            "Epoch 10/20\n",
            "1186/1186 [==============================] - 1s 1ms/sample - loss: 1.3853 - acc: 0.4157 - val_loss: 1.3903 - val_acc: 0.3906\n",
            "Epoch 11/20\n",
            "1186/1186 [==============================] - 1s 1ms/sample - loss: 1.3886 - acc: 0.4157 - val_loss: 1.3876 - val_acc: 0.3906\n",
            "Epoch 12/20\n",
            "1186/1186 [==============================] - 1s 1ms/sample - loss: 1.3844 - acc: 0.4157 - val_loss: 1.3886 - val_acc: 0.3906\n",
            "Epoch 13/20\n",
            "1186/1186 [==============================] - 1s 1ms/sample - loss: 1.3813 - acc: 0.4157 - val_loss: 1.3882 - val_acc: 0.3906\n",
            "Epoch 14/20\n",
            "1186/1186 [==============================] - 1s 1ms/sample - loss: 1.3961 - acc: 0.4148 - val_loss: 1.3866 - val_acc: 0.3906\n",
            "Epoch 15/20\n",
            "1186/1186 [==============================] - 1s 1ms/sample - loss: 1.3934 - acc: 0.4157 - val_loss: 1.3943 - val_acc: 0.3906\n",
            "Epoch 16/20\n",
            "1186/1186 [==============================] - 1s 1ms/sample - loss: 1.3915 - acc: 0.4157 - val_loss: 1.3999 - val_acc: 0.3906\n",
            "Epoch 17/20\n",
            "1186/1186 [==============================] - 1s 1ms/sample - loss: 1.3808 - acc: 0.4157 - val_loss: 1.3969 - val_acc: 0.3906\n",
            "Epoch 18/20\n",
            "1186/1186 [==============================] - 1s 1ms/sample - loss: 1.3849 - acc: 0.4157 - val_loss: 1.3902 - val_acc: 0.3906\n",
            "Epoch 19/20\n",
            "1186/1186 [==============================] - 1s 1ms/sample - loss: 1.3900 - acc: 0.4157 - val_loss: 1.3918 - val_acc: 0.3906\n",
            "Epoch 20/20\n",
            "1186/1186 [==============================] - 1s 1ms/sample - loss: 1.3830 - acc: 0.4157 - val_loss: 1.3961 - val_acc: 0.3906\n"
          ],
          "name": "stdout"
        },
        {
          "output_type": "execute_result",
          "data": {
            "text/plain": [
              "<tensorflow.python.keras.callbacks.History at 0x7f81af2f5470>"
            ]
          },
          "metadata": {
            "tags": []
          },
          "execution_count": 1012
        }
      ]
    },
    {
      "metadata": {
        "id": "B3V138-mwqFr",
        "colab_type": "code",
        "colab": {}
      },
      "cell_type": "code",
      "source": [
        "example = t.texts_to_sequences([\"what is a nanometer?\"])\n",
        "\n",
        "example = sequence.pad_sequences(example,maxlen=max_question_length, padding='post')"
      ],
      "execution_count": 0,
      "outputs": []
    },
    {
      "metadata": {
        "id": "uR7Fz9tPPDvm",
        "colab_type": "code",
        "colab": {
          "base_uri": "https://localhost:8080/",
          "height": 34
        },
        "outputId": "0eed8400-c734-44c6-de83-7a71b935236a"
      },
      "cell_type": "code",
      "source": [
        "example.shape"
      ],
      "execution_count": 1014,
      "outputs": [
        {
          "output_type": "execute_result",
          "data": {
            "text/plain": [
              "(1, 30)"
            ]
          },
          "metadata": {
            "tags": []
          },
          "execution_count": 1014
        }
      ]
    },
    {
      "metadata": {
        "id": "CquJhvAbREk3",
        "colab_type": "code",
        "colab": {
          "base_uri": "https://localhost:8080/",
          "height": 34
        },
        "outputId": "eb19f6de-2846-417e-c7fe-63f244dc661c"
      },
      "cell_type": "code",
      "source": [
        "np.argmax(model.predict(example))"
      ],
      "execution_count": 1015,
      "outputs": [
        {
          "output_type": "execute_result",
          "data": {
            "text/plain": [
              "2"
            ]
          },
          "metadata": {
            "tags": []
          },
          "execution_count": 1015
        }
      ]
    }
  ]
}